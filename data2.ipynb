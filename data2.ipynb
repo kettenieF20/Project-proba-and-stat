{
  "nbformat": 4,
  "nbformat_minor": 0,
  "metadata": {
    "interpreter": {
      "hash": "0a7038b7ec99bf3e116b85ecc4f665370471e56089cae39c206a9f13b31e0ff4"
    },
    "kernelspec": {
      "name": "python3",
      "display_name": "Python 3.8.8 64-bit ('base': conda)"
    },
    "language_info": {
      "codemirror_mode": {
        "name": "ipython",
        "version": 3
      },
      "file_extension": ".py",
      "mimetype": "text/x-python",
      "name": "python",
      "nbconvert_exporter": "python",
      "pygments_lexer": "ipython3",
      "version": "3.8.8"
    },
    "orig_nbformat": 4,
    "colab": {
      "name": "data2.ipynb",
      "provenance": [],
      "collapsed_sections": []
    }
  },
  "cells": [
    {
      "cell_type": "code",
      "metadata": {
        "id": "jXcIDg4sZFuZ"
      },
      "source": [
        "import numpy as np\n",
        "import pandas as pd\n",
        "import matplotlib.pyplot as plt\n",
        "import seaborn as sns\n",
        "from dateutil import relativedelta as rdelta\n",
        "from datetime import date, timedelta\n",
        "from scipy.stats import kurtosis\n",
        "from scipy.stats import skew\n",
        "from scipy.stats import chi2_contingency, f_oneway, ttest_1samp"
      ],
      "execution_count": null,
      "outputs": []
    },
    {
      "cell_type": "markdown",
      "metadata": {
        "id": "rh45ERRjZFuc"
      },
      "source": [
        "# Ayiti Analytics Probability and Statistics Project"
      ]
    },
    {
      "cell_type": "markdown",
      "metadata": {
        "id": "ewIYxfY5ZFud"
      },
      "source": [
        "Use all the files to have a final datasets to have the following columns\n",
        "   <ul>\n",
        "    <li>questid</li>\n",
        "    <li>gender</li>\n",
        "    <li>age (age of applicant)</li>\n",
        "    <li>communeName (use data prep in commune file)</li>\n",
        "    <li>application_date (created at in quest file)</li>\n",
        "    <li>enroll_date (created_at in enroll file)</li>\n",
        "    <li>is_enroll (Yes/No) (use data prep in enroll file)</li>\n",
        "    <li>Education Level</li>\n",
        "   <li>Communication channels(hear_AA1)</li>\n",
        "    <li>Bootcamp Insterest (after_AA)</li>\n",
        "    <li>Payement Date (use ord and transaction files)</li>\n",
        "    <li>Payed (Yes/No)</li>\n",
        "    <li>list Technologies as columns based (use get_dummies)</li>\n",
        "    <li>list  Study domains (use get_dummies)</li>\n",
        "    <li>Job is formal</li>\n",
        "    <li>Have computer at home</li>\n",
        "    <li>Have internet at home</li>\n",
        "    \n",
        "   </ul>\n",
        "   "
      ]
    },
    {
      "cell_type": "code",
      "metadata": {
        "id": "P6U1KOd-ZFud"
      },
      "source": [
        " # reading file\n",
        "commune = pd.read_excel(r\"commune.xlsx\")\n",
        "enroll = pd.read_csv(r\"enroll.csv\")\n",
        "quest = pd.read_csv(r\"quest.csv\")\n",
        "industry = pd.read_csv(r\"industry.csv\")\n",
        "ord = pd.read_csv(r\"ord.csv\")\n",
        "study_domain = pd.read_csv(r\"study_domain.csv\")\n",
        "transaction = pd.read_csv(r\"transaction.csv\")\n",
        "technology = pd.read_csv(r\"technology.csv\")"
      ],
      "execution_count": null,
      "outputs": []
    },
    {
      "cell_type": "code",
      "metadata": {
        "colab": {
          "base_uri": "https://localhost:8080/"
        },
        "id": "ZAOchp4BZFuf",
        "outputId": "e4b85f65-e232-475b-f72d-74140b38874c"
      },
      "source": [
        "# read_file(file_name = \"quest_crv\")\n",
        "len(quest)"
      ],
      "execution_count": null,
      "outputs": [
        {
          "output_type": "execute_result",
          "data": {
            "text/plain": [
              "250"
            ]
          },
          "metadata": {
            "tags": []
          },
          "execution_count": 549
        }
      ]
    },
    {
      "cell_type": "code",
      "metadata": {
        "id": "1HLPSE7YZFuf"
      },
      "source": [
        "\n",
        "# create function\n",
        "def merging (a,b):\n",
        "    df= pd.merge(left =b , right = b, how = \"left\", on = \"quest_id\") \n",
        "    return df"
      ],
      "execution_count": null,
      "outputs": []
    },
    {
      "cell_type": "code",
      "metadata": {
        "id": "dNrij9BLZFug"
      },
      "source": [
        "\n",
        " # In this section we use the get_dummies() for data manipulation.\n",
        "def dumies (data):\n",
        "     dum = pd.get_dummies(data[[\"key\", \"quest_id\", \"values\"]], columns=['values'], prefix=\"\", prefix_sep=\"\")\n",
        "     # group the new indicator variable by thier quest_id which is common to all\n",
        "     df= dum.groupby(by=[\"quest_id\"]).sum()\n",
        "     return df"
      ],
      "execution_count": null,
      "outputs": []
    },
    {
      "cell_type": "code",
      "metadata": {
        "id": "3I_vw1eIiPYc"
      },
      "source": [
        "#changing to lowercase the column \"Commune_ID to merge it\n",
        "commune1 = commune.copy()\n",
        "commune1[\"Commune_Id\"] = commune1[\"Commune_Id\"].str.lower()\n",
        "# rename the column \"Commune_ID to 'commune' to merge it with the commune colum on the commune dataset\n",
        "commune1.rename(columns = {\"Commune_Id\": \"commune\"}, inplace = True)"
      ],
      "execution_count": null,
      "outputs": []
    },
    {
      "cell_type": "code",
      "metadata": {
        "id": "tq9GW5oGiWva"
      },
      "source": [
        "# drop these colums\n",
        "commune1.drop([\"ADM1_PCODE\", \"Commune_FR\"], axis=1, inplace=True)"
      ],
      "execution_count": null,
      "outputs": []
    },
    {
      "cell_type": "code",
      "metadata": {
        "id": "Y23dvU84ZFug"
      },
      "source": [
        "# In this section we use the get_dummies() for data manipulation.\n",
        "technology1 = dumies(technology)"
      ],
      "execution_count": null,
      "outputs": []
    },
    {
      "cell_type": "code",
      "metadata": {
        "id": "c2Hmzbs5ZFuh"
      },
      "source": [
        "\n",
        "study_domain1 = dumies(study_domain)"
      ],
      "execution_count": null,
      "outputs": []
    },
    {
      "cell_type": "code",
      "metadata": {
        "colab": {
          "base_uri": "https://localhost:8080/"
        },
        "id": "yb1RbNVNZFui",
        "outputId": "8ee41b0a-be04-4717-b42f-87848dd44fb6"
      },
      "source": [
        "# shape\n",
        "technology1.shape"
      ],
      "execution_count": null,
      "outputs": [
        {
          "output_type": "execute_result",
          "data": {
            "text/plain": [
              "(244, 12)"
            ]
          },
          "metadata": {
            "tags": []
          },
          "execution_count": 556
        }
      ]
    },
    {
      "cell_type": "code",
      "metadata": {
        "id": "f8MRN8xLZFuj"
      },
      "source": [
        "enroll.rename(columns = {\"created_at\": \"enroll_date\"}, inplace = True)\n",
        "enroll['is_enroll'] = np.where(enroll['enroll_date'].isna(), 'no', 'yes')\n",
        "enroll1=enroll[[\"enroll_date\",\"is_enroll\",\"quest_id\",\"user_id\"]]"
      ],
      "execution_count": null,
      "outputs": []
    },
    {
      "cell_type": "code",
      "metadata": {
        "colab": {
          "base_uri": "https://localhost:8080/",
          "height": 419
        },
        "id": "ixzga60RZFuj",
        "outputId": "99866470-5422-4c22-f018-5a5054ee5a78"
      },
      "source": [
        "\n",
        "\n",
        "enroll1"
      ],
      "execution_count": null,
      "outputs": [
        {
          "output_type": "execute_result",
          "data": {
            "text/html": [
              "<div>\n",
              "<style scoped>\n",
              "    .dataframe tbody tr th:only-of-type {\n",
              "        vertical-align: middle;\n",
              "    }\n",
              "\n",
              "    .dataframe tbody tr th {\n",
              "        vertical-align: top;\n",
              "    }\n",
              "\n",
              "    .dataframe thead th {\n",
              "        text-align: right;\n",
              "    }\n",
              "</style>\n",
              "<table border=\"1\" class=\"dataframe\">\n",
              "  <thead>\n",
              "    <tr style=\"text-align: right;\">\n",
              "      <th></th>\n",
              "      <th>enroll_date</th>\n",
              "      <th>is_enroll</th>\n",
              "      <th>quest_id</th>\n",
              "      <th>user_id</th>\n",
              "    </tr>\n",
              "  </thead>\n",
              "  <tbody>\n",
              "    <tr>\n",
              "      <th>0</th>\n",
              "      <td>2020-12-12T06:41:29.844Z</td>\n",
              "      <td>yes</td>\n",
              "      <td>NaN</td>\n",
              "      <td>29816173</td>\n",
              "    </tr>\n",
              "    <tr>\n",
              "      <th>1</th>\n",
              "      <td>2020-12-13T14:41:17.720Z</td>\n",
              "      <td>yes</td>\n",
              "      <td>NaN</td>\n",
              "      <td>35229766</td>\n",
              "    </tr>\n",
              "    <tr>\n",
              "      <th>2</th>\n",
              "      <td>2020-12-15T00:53:06.499Z</td>\n",
              "      <td>yes</td>\n",
              "      <td>NaN</td>\n",
              "      <td>31987560</td>\n",
              "    </tr>\n",
              "    <tr>\n",
              "      <th>3</th>\n",
              "      <td>2020-12-18T18:38:55.683Z</td>\n",
              "      <td>yes</td>\n",
              "      <td>NaN</td>\n",
              "      <td>35616451</td>\n",
              "    </tr>\n",
              "    <tr>\n",
              "      <th>4</th>\n",
              "      <td>2020-12-21T14:45:06.528Z</td>\n",
              "      <td>yes</td>\n",
              "      <td>NaN</td>\n",
              "      <td>35390649</td>\n",
              "    </tr>\n",
              "    <tr>\n",
              "      <th>...</th>\n",
              "      <td>...</td>\n",
              "      <td>...</td>\n",
              "      <td>...</td>\n",
              "      <td>...</td>\n",
              "    </tr>\n",
              "    <tr>\n",
              "      <th>143</th>\n",
              "      <td>2021-03-14T02:16:08.736Z</td>\n",
              "      <td>yes</td>\n",
              "      <td>906b65e3-ce95-11eb-a294-7c67a234f601</td>\n",
              "      <td>41508160</td>\n",
              "    </tr>\n",
              "    <tr>\n",
              "      <th>144</th>\n",
              "      <td>2021-03-14T04:20:30.803Z</td>\n",
              "      <td>yes</td>\n",
              "      <td>906636cf-ce95-11eb-8679-7c67a234f601</td>\n",
              "      <td>41564742</td>\n",
              "    </tr>\n",
              "    <tr>\n",
              "      <th>145</th>\n",
              "      <td>2021-03-14T07:34:09.491Z</td>\n",
              "      <td>yes</td>\n",
              "      <td>906241d5-ce95-11eb-9850-7c67a234f601</td>\n",
              "      <td>41569249</td>\n",
              "    </tr>\n",
              "    <tr>\n",
              "      <th>146</th>\n",
              "      <td>2021-03-14T15:34:39.800Z</td>\n",
              "      <td>yes</td>\n",
              "      <td>906b3c86-ce95-11eb-b6a7-7c67a234f601</td>\n",
              "      <td>41587952</td>\n",
              "    </tr>\n",
              "    <tr>\n",
              "      <th>147</th>\n",
              "      <td>2021-03-14T17:34:44.861Z</td>\n",
              "      <td>yes</td>\n",
              "      <td>NaN</td>\n",
              "      <td>41592698</td>\n",
              "    </tr>\n",
              "  </tbody>\n",
              "</table>\n",
              "<p>148 rows × 4 columns</p>\n",
              "</div>"
            ],
            "text/plain": [
              "                  enroll_date  ...   user_id\n",
              "0    2020-12-12T06:41:29.844Z  ...  29816173\n",
              "1    2020-12-13T14:41:17.720Z  ...  35229766\n",
              "2    2020-12-15T00:53:06.499Z  ...  31987560\n",
              "3    2020-12-18T18:38:55.683Z  ...  35616451\n",
              "4    2020-12-21T14:45:06.528Z  ...  35390649\n",
              "..                        ...  ...       ...\n",
              "143  2021-03-14T02:16:08.736Z  ...  41508160\n",
              "144  2021-03-14T04:20:30.803Z  ...  41564742\n",
              "145  2021-03-14T07:34:09.491Z  ...  41569249\n",
              "146  2021-03-14T15:34:39.800Z  ...  41587952\n",
              "147  2021-03-14T17:34:44.861Z  ...  41592698\n",
              "\n",
              "[148 rows x 4 columns]"
            ]
          },
          "metadata": {
            "tags": []
          },
          "execution_count": 558
        }
      ]
    },
    {
      "cell_type": "code",
      "metadata": {
        "id": "DlxAAptDZFuj"
      },
      "source": [
        "\n",
        "\n",
        "quest1 = quest.drop([\"Unnamed: 0\", \"modified_at\",\"department\", \"university\", \"study_domain\", \"current_employed\"], axis=1)"
      ],
      "execution_count": null,
      "outputs": []
    },
    {
      "cell_type": "code",
      "metadata": {
        "id": "WWUB-AScZFuj"
      },
      "source": [
        "# create a function\n",
        "def new_date(data, col=\"\"):\n",
        "  data[col] = data[col].str[:10]\n",
        "  data[col] = pd.to_datetime(data[col])\n",
        "  return col"
      ],
      "execution_count": null,
      "outputs": []
    },
    {
      "cell_type": "code",
      "metadata": {
        "id": "YzcvduPKZFuj"
      },
      "source": [
        "\n",
        "\n",
        "\n",
        "# use this function to determine the age\n",
        "quest1.rename(columns={\"created_at\": \"application_date\", \"hear_AA_1\":\"Communication channels\",\"after_AA\":\"Bootcamp interest\", \"formal_sector_job\":\"job is formal\"}, inplace=True)\n",
        "new_date(quest1, col=\"application_date\")\n",
        "quest1[\"dob\"].replace({\"3 aout 1977\": \"3/08/1977\"}, inplace=True)\n",
        "quest1[\"dob\"] = pd.to_datetime(quest1[\"dob\"])"
      ],
      "execution_count": null,
      "outputs": []
    },
    {
      "cell_type": "code",
      "metadata": {
        "id": "ZOKWwwzpZFuk"
      },
      "source": [
        "\n",
        "\n",
        "\n",
        "quest1[\"age\"] = (-(quest1[\"dob\"]-quest1[\"application_date\"])//np.timedelta64(1,\"Y\"))"
      ],
      "execution_count": null,
      "outputs": []
    },
    {
      "cell_type": "code",
      "metadata": {
        "colab": {
          "base_uri": "https://localhost:8080/"
        },
        "id": "d0MBlOnuZFuk",
        "outputId": "61a6469e-bb74-4f73-a887-ae9f0b0d655e"
      },
      "source": [
        "quest1.columns"
      ],
      "execution_count": null,
      "outputs": [
        {
          "output_type": "execute_result",
          "data": {
            "text/plain": [
              "Index(['gender', 'dob', 'commune', 'application_date', 'education_level',\n",
              "       'job is formal', 'have_computer_home', 'internet_at_home',\n",
              "       'Communication channels', 'Bootcamp interest', 'quest_id', 'age'],\n",
              "      dtype='object')"
            ]
          },
          "metadata": {
            "tags": []
          },
          "execution_count": 563
        }
      ]
    },
    {
      "cell_type": "code",
      "metadata": {
        "colab": {
          "base_uri": "https://localhost:8080/"
        },
        "id": "VbqIOUTrZFuk",
        "outputId": "de9b1fc8-65b8-4260-8d7d-c2d7a058916f"
      },
      "source": [
        "quest1.info()"
      ],
      "execution_count": null,
      "outputs": [
        {
          "output_type": "stream",
          "text": [
            "<class 'pandas.core.frame.DataFrame'>\n",
            "RangeIndex: 250 entries, 0 to 249\n",
            "Data columns (total 12 columns):\n",
            " #   Column                  Non-Null Count  Dtype         \n",
            "---  ------                  --------------  -----         \n",
            " 0   gender                  250 non-null    object        \n",
            " 1   dob                     244 non-null    datetime64[ns]\n",
            " 2   commune                 250 non-null    object        \n",
            " 3   application_date        250 non-null    datetime64[ns]\n",
            " 4   education_level         250 non-null    object        \n",
            " 5   job is formal           250 non-null    object        \n",
            " 6   have_computer_home      250 non-null    object        \n",
            " 7   internet_at_home        250 non-null    object        \n",
            " 8   Communication channels  250 non-null    object        \n",
            " 9   Bootcamp interest       250 non-null    object        \n",
            " 10  quest_id                250 non-null    object        \n",
            " 11  age                     244 non-null    float64       \n",
            "dtypes: datetime64[ns](2), float64(1), object(9)\n",
            "memory usage: 23.6+ KB\n"
          ],
          "name": "stdout"
        }
      ]
    },
    {
      "cell_type": "code",
      "metadata": {
        "id": "R6KlO526etPD"
      },
      "source": [
        "# choose 2 columns to create this columns\n",
        "ord1 = ord.loc[:, [\"created_at\", \"user_id\"]]\n",
        "transaction1 = transaction.loc[:, [\"created_at\", \"user_id\"]]\n",
        "ord1.rename(columns={\"created_at\": \"payment_date\"}, inplace=True)\n",
        "transaction1.rename(columns={\"created_at\": \"payment_date\"}, inplace=True)\n",
        "ord_transac = pd.concat([transaction1, ord1], axis=0)\n",
        "new_date(ord_transac, \"payment_date\")\n",
        "ord_transac[\"payed\"] = \"yes\""
      ],
      "execution_count": null,
      "outputs": []
    },
    {
      "cell_type": "code",
      "metadata": {
        "id": "a1VG74l7gIDn"
      },
      "source": [
        "\n",
        "\n",
        "enroll_payed = pd.merge(left=enroll1, right=ord_transac, how=\"left\", on=\"user_id\")"
      ],
      "execution_count": null,
      "outputs": []
    },
    {
      "cell_type": "code",
      "metadata": {
        "id": "SCr-ZwSjhHp3"
      },
      "source": [
        "# merging\n",
        "dts = pd.merge(left=quest1, right= commune1, on=\"commune\", how=\"left\")\n",
        "dts = pd.merge(left=dts, right= enroll_payed, on=\"quest_id\", how=\"left\")\n",
        "dts = pd.merge(left=dts, right= study_domain1, on=\"quest_id\", how=\"left\")\n",
        "dts = pd.merge(left=dts, right= technology1, on=\"quest_id\", how=\"left\")"
      ],
      "execution_count": null,
      "outputs": []
    },
    {
      "cell_type": "code",
      "metadata": {
        "id": "29sCNNjnhj7L"
      },
      "source": [
        "\n",
        "dts.drop([\"dob\", \"commune\"], axis=1, inplace=True)"
      ],
      "execution_count": null,
      "outputs": []
    },
    {
      "cell_type": "code",
      "metadata": {
        "id": "tLRS0NialTQS"
      },
      "source": [
        "def add_no(data=dts, col=\"\", text=\"no\"):\n",
        "  data[col].fillna(text, inplace=True)\n",
        "add_no(col=\"is_enroll\")\n",
        "add_no(col=\"payed\")"
      ],
      "execution_count": null,
      "outputs": []
    },
    {
      "cell_type": "markdown",
      "metadata": {
        "id": "Ane8xCiDZFup"
      },
      "source": [
        "###  1. How many observations and variables are there in the dataset\n",
        " "
      ]
    },
    {
      "cell_type": "code",
      "metadata": {
        "colab": {
          "base_uri": "https://localhost:8080/"
        },
        "id": "c8xXNSuFZFup",
        "outputId": "18af7c94-666d-4994-e706-9252be59de16"
      },
      "source": [
        "# here your codes\n",
        "# the shape of the dataset\n",
        "print(f\"The final dataset has {dts.shape[0]} observations and {dts.shape[1]} variables.\")"
      ],
      "execution_count": null,
      "outputs": [
        {
          "output_type": "stream",
          "text": [
            "The final dataset has 250 observations and 38 variables.\n"
          ],
          "name": "stdout"
        }
      ]
    },
    {
      "cell_type": "markdown",
      "metadata": {
        "id": "vty-yCL3ZFuq"
      },
      "source": [
        "### 2.A Calculate the average age of the observations\n",
        "   * On the whole dataset\n",
        "   * On the whole male dataset\n",
        "   * On all the female dataset\n",
        "### 2.B Calculate \n",
        "   * variance of the whole datatset,male and female\n",
        "   * kurtosis of the whole datatset,male and female\n",
        "   * skewness of the whole datatset,male and female\n",
        "### 2.C Does the age distribution follow a normal distribution \n",
        "   "
      ]
    },
    {
      "cell_type": "code",
      "metadata": {
        "colab": {
          "base_uri": "https://localhost:8080/",
          "height": 677
        },
        "id": "-k8QtwFZZFuq",
        "outputId": "4fb1a9cc-91ee-455f-e5ed-5d975856438a"
      },
      "source": [
        "# here your codes\n",
        "# see the age less than 2\n",
        "dts[dts.age<2]"
      ],
      "execution_count": null,
      "outputs": [
        {
          "output_type": "execute_result",
          "data": {
            "text/html": [
              "<div>\n",
              "<style scoped>\n",
              "    .dataframe tbody tr th:only-of-type {\n",
              "        vertical-align: middle;\n",
              "    }\n",
              "\n",
              "    .dataframe tbody tr th {\n",
              "        vertical-align: top;\n",
              "    }\n",
              "\n",
              "    .dataframe thead th {\n",
              "        text-align: right;\n",
              "    }\n",
              "</style>\n",
              "<table border=\"1\" class=\"dataframe\">\n",
              "  <thead>\n",
              "    <tr style=\"text-align: right;\">\n",
              "      <th></th>\n",
              "      <th>gender</th>\n",
              "      <th>application_date</th>\n",
              "      <th>education_level</th>\n",
              "      <th>job is formal</th>\n",
              "      <th>have_computer_home</th>\n",
              "      <th>internet_at_home</th>\n",
              "      <th>Communication channels</th>\n",
              "      <th>Bootcamp interest</th>\n",
              "      <th>quest_id</th>\n",
              "      <th>age</th>\n",
              "      <th>Commune_en</th>\n",
              "      <th>Departement</th>\n",
              "      <th>enroll_date</th>\n",
              "      <th>is_enroll</th>\n",
              "      <th>user_id</th>\n",
              "      <th>payment_date</th>\n",
              "      <th>payed</th>\n",
              "      <th>Accounting</th>\n",
              "      <th>Computer Science</th>\n",
              "      <th>Economics</th>\n",
              "      <th>Electrical Engineering</th>\n",
              "      <th>Law</th>\n",
              "      <th>Management</th>\n",
              "      <th>Medicine</th>\n",
              "      <th>Statistics</th>\n",
              "      <th>other_x</th>\n",
              "      <th>Bash</th>\n",
              "      <th>Excel</th>\n",
              "      <th>Git</th>\n",
              "      <th>Java</th>\n",
              "      <th>JavaScript</th>\n",
              "      <th>PHP</th>\n",
              "      <th>PowerBI or Tableau</th>\n",
              "      <th>Python</th>\n",
              "      <th>R</th>\n",
              "      <th>SQL</th>\n",
              "      <th>VBA</th>\n",
              "      <th>other_y</th>\n",
              "    </tr>\n",
              "  </thead>\n",
              "  <tbody>\n",
              "    <tr>\n",
              "      <th>25</th>\n",
              "      <td>male</td>\n",
              "      <td>2021-02-19</td>\n",
              "      <td>High School (16 years)</td>\n",
              "      <td>Yes</td>\n",
              "      <td>Yes</td>\n",
              "      <td>Yes</td>\n",
              "      <td>WhatsApp</td>\n",
              "      <td>Mentorship</td>\n",
              "      <td>906036c8-ce95-11eb-8c78-7c67a234f601</td>\n",
              "      <td>-1.0</td>\n",
              "      <td>Port-au-Prince</td>\n",
              "      <td>West</td>\n",
              "      <td>NaN</td>\n",
              "      <td>no</td>\n",
              "      <td>NaN</td>\n",
              "      <td>NaT</td>\n",
              "      <td>no</td>\n",
              "      <td>0.0</td>\n",
              "      <td>1.0</td>\n",
              "      <td>0.0</td>\n",
              "      <td>0.0</td>\n",
              "      <td>0.0</td>\n",
              "      <td>0.0</td>\n",
              "      <td>0.0</td>\n",
              "      <td>0.0</td>\n",
              "      <td>0.0</td>\n",
              "      <td>0.0</td>\n",
              "      <td>0.0</td>\n",
              "      <td>0.0</td>\n",
              "      <td>0.0</td>\n",
              "      <td>1.0</td>\n",
              "      <td>0.0</td>\n",
              "      <td>0.0</td>\n",
              "      <td>0.0</td>\n",
              "      <td>0.0</td>\n",
              "      <td>0.0</td>\n",
              "      <td>0.0</td>\n",
              "      <td>0.0</td>\n",
              "    </tr>\n",
              "    <tr>\n",
              "      <th>92</th>\n",
              "      <td>male</td>\n",
              "      <td>2021-02-18</td>\n",
              "      <td>Other</td>\n",
              "      <td>unknown</td>\n",
              "      <td>Yes</td>\n",
              "      <td>Yes</td>\n",
              "      <td>Friend</td>\n",
              "      <td>Improving my data analysis skills</td>\n",
              "      <td>9064923b-ce95-11eb-a771-7c67a234f601</td>\n",
              "      <td>-1.0</td>\n",
              "      <td>Delmas</td>\n",
              "      <td>West</td>\n",
              "      <td>NaN</td>\n",
              "      <td>no</td>\n",
              "      <td>NaN</td>\n",
              "      <td>NaT</td>\n",
              "      <td>no</td>\n",
              "      <td>0.0</td>\n",
              "      <td>1.0</td>\n",
              "      <td>0.0</td>\n",
              "      <td>0.0</td>\n",
              "      <td>0.0</td>\n",
              "      <td>0.0</td>\n",
              "      <td>0.0</td>\n",
              "      <td>0.0</td>\n",
              "      <td>0.0</td>\n",
              "      <td>0.0</td>\n",
              "      <td>0.0</td>\n",
              "      <td>0.0</td>\n",
              "      <td>1.0</td>\n",
              "      <td>0.0</td>\n",
              "      <td>0.0</td>\n",
              "      <td>0.0</td>\n",
              "      <td>0.0</td>\n",
              "      <td>0.0</td>\n",
              "      <td>1.0</td>\n",
              "      <td>0.0</td>\n",
              "      <td>0.0</td>\n",
              "    </tr>\n",
              "    <tr>\n",
              "      <th>176</th>\n",
              "      <td>male</td>\n",
              "      <td>2021-02-19</td>\n",
              "      <td>Bachelors (bacc +4)</td>\n",
              "      <td>unknown</td>\n",
              "      <td>Yes</td>\n",
              "      <td>No</td>\n",
              "      <td>WhatsApp</td>\n",
              "      <td>Training to start my own company</td>\n",
              "      <td>9067e4c0-ce95-11eb-bebe-7c67a234f601</td>\n",
              "      <td>0.0</td>\n",
              "      <td>Petion-Ville</td>\n",
              "      <td>West</td>\n",
              "      <td>NaN</td>\n",
              "      <td>no</td>\n",
              "      <td>NaN</td>\n",
              "      <td>NaT</td>\n",
              "      <td>no</td>\n",
              "      <td>0.0</td>\n",
              "      <td>1.0</td>\n",
              "      <td>0.0</td>\n",
              "      <td>0.0</td>\n",
              "      <td>0.0</td>\n",
              "      <td>0.0</td>\n",
              "      <td>0.0</td>\n",
              "      <td>0.0</td>\n",
              "      <td>0.0</td>\n",
              "      <td>0.0</td>\n",
              "      <td>0.0</td>\n",
              "      <td>0.0</td>\n",
              "      <td>0.0</td>\n",
              "      <td>0.0</td>\n",
              "      <td>0.0</td>\n",
              "      <td>0.0</td>\n",
              "      <td>0.0</td>\n",
              "      <td>1.0</td>\n",
              "      <td>0.0</td>\n",
              "      <td>0.0</td>\n",
              "      <td>0.0</td>\n",
              "    </tr>\n",
              "    <tr>\n",
              "      <th>209</th>\n",
              "      <td>female</td>\n",
              "      <td>2021-02-16</td>\n",
              "      <td>Other</td>\n",
              "      <td>unknown</td>\n",
              "      <td>No</td>\n",
              "      <td>No</td>\n",
              "      <td>WhatsApp</td>\n",
              "      <td>Improving my data analysis skills</td>\n",
              "      <td>9069a205-ce95-11eb-be5a-7c67a234f601</td>\n",
              "      <td>1.0</td>\n",
              "      <td>Les Cayes</td>\n",
              "      <td>South</td>\n",
              "      <td>NaN</td>\n",
              "      <td>no</td>\n",
              "      <td>NaN</td>\n",
              "      <td>NaT</td>\n",
              "      <td>no</td>\n",
              "      <td>0.0</td>\n",
              "      <td>0.0</td>\n",
              "      <td>0.0</td>\n",
              "      <td>0.0</td>\n",
              "      <td>0.0</td>\n",
              "      <td>0.0</td>\n",
              "      <td>0.0</td>\n",
              "      <td>0.0</td>\n",
              "      <td>1.0</td>\n",
              "      <td>0.0</td>\n",
              "      <td>1.0</td>\n",
              "      <td>0.0</td>\n",
              "      <td>0.0</td>\n",
              "      <td>0.0</td>\n",
              "      <td>0.0</td>\n",
              "      <td>0.0</td>\n",
              "      <td>0.0</td>\n",
              "      <td>0.0</td>\n",
              "      <td>0.0</td>\n",
              "      <td>0.0</td>\n",
              "      <td>0.0</td>\n",
              "    </tr>\n",
              "    <tr>\n",
              "      <th>210</th>\n",
              "      <td>female</td>\n",
              "      <td>2021-02-17</td>\n",
              "      <td>Other</td>\n",
              "      <td>unknown</td>\n",
              "      <td>Yes</td>\n",
              "      <td>Yes</td>\n",
              "      <td>ESIH</td>\n",
              "      <td>Improving my data analysis skills</td>\n",
              "      <td>9069a206-ce95-11eb-9c6f-7c67a234f601</td>\n",
              "      <td>-1.0</td>\n",
              "      <td>Cite Soleil</td>\n",
              "      <td>West</td>\n",
              "      <td>NaN</td>\n",
              "      <td>no</td>\n",
              "      <td>NaN</td>\n",
              "      <td>NaT</td>\n",
              "      <td>no</td>\n",
              "      <td>0.0</td>\n",
              "      <td>1.0</td>\n",
              "      <td>0.0</td>\n",
              "      <td>0.0</td>\n",
              "      <td>0.0</td>\n",
              "      <td>0.0</td>\n",
              "      <td>0.0</td>\n",
              "      <td>0.0</td>\n",
              "      <td>0.0</td>\n",
              "      <td>0.0</td>\n",
              "      <td>0.0</td>\n",
              "      <td>0.0</td>\n",
              "      <td>0.0</td>\n",
              "      <td>0.0</td>\n",
              "      <td>1.0</td>\n",
              "      <td>0.0</td>\n",
              "      <td>0.0</td>\n",
              "      <td>0.0</td>\n",
              "      <td>1.0</td>\n",
              "      <td>0.0</td>\n",
              "      <td>0.0</td>\n",
              "    </tr>\n",
              "    <tr>\n",
              "      <th>219</th>\n",
              "      <td>male</td>\n",
              "      <td>2021-02-19</td>\n",
              "      <td>Bachelors (bacc +4)</td>\n",
              "      <td>unknown</td>\n",
              "      <td>Yes</td>\n",
              "      <td>Yes</td>\n",
              "      <td>Facebook</td>\n",
              "      <td>Finding a job/internship</td>\n",
              "      <td>9069ddd8-ce95-11eb-b0fb-7c67a234f601</td>\n",
              "      <td>-1.0</td>\n",
              "      <td>Sainte Suzanne</td>\n",
              "      <td>North-East</td>\n",
              "      <td>NaN</td>\n",
              "      <td>no</td>\n",
              "      <td>NaN</td>\n",
              "      <td>NaT</td>\n",
              "      <td>no</td>\n",
              "      <td>0.0</td>\n",
              "      <td>0.0</td>\n",
              "      <td>0.0</td>\n",
              "      <td>0.0</td>\n",
              "      <td>0.0</td>\n",
              "      <td>0.0</td>\n",
              "      <td>0.0</td>\n",
              "      <td>0.0</td>\n",
              "      <td>1.0</td>\n",
              "      <td>0.0</td>\n",
              "      <td>1.0</td>\n",
              "      <td>0.0</td>\n",
              "      <td>0.0</td>\n",
              "      <td>0.0</td>\n",
              "      <td>0.0</td>\n",
              "      <td>0.0</td>\n",
              "      <td>0.0</td>\n",
              "      <td>0.0</td>\n",
              "      <td>0.0</td>\n",
              "      <td>0.0</td>\n",
              "      <td>1.0</td>\n",
              "    </tr>\n",
              "    <tr>\n",
              "      <th>229</th>\n",
              "      <td>male</td>\n",
              "      <td>2021-02-20</td>\n",
              "      <td>Bachelors (bacc +4)</td>\n",
              "      <td>Yes</td>\n",
              "      <td>Yes</td>\n",
              "      <td>Yes</td>\n",
              "      <td>Facebook</td>\n",
              "      <td>Improving my data analysis skills</td>\n",
              "      <td>906a52b4-ce95-11eb-b9bd-7c67a234f601</td>\n",
              "      <td>-1.0</td>\n",
              "      <td>Ouanaminthe</td>\n",
              "      <td>North-East</td>\n",
              "      <td>NaN</td>\n",
              "      <td>no</td>\n",
              "      <td>NaN</td>\n",
              "      <td>NaT</td>\n",
              "      <td>no</td>\n",
              "      <td>0.0</td>\n",
              "      <td>0.0</td>\n",
              "      <td>0.0</td>\n",
              "      <td>0.0</td>\n",
              "      <td>0.0</td>\n",
              "      <td>1.0</td>\n",
              "      <td>0.0</td>\n",
              "      <td>0.0</td>\n",
              "      <td>0.0</td>\n",
              "      <td>0.0</td>\n",
              "      <td>1.0</td>\n",
              "      <td>0.0</td>\n",
              "      <td>0.0</td>\n",
              "      <td>0.0</td>\n",
              "      <td>0.0</td>\n",
              "      <td>0.0</td>\n",
              "      <td>0.0</td>\n",
              "      <td>0.0</td>\n",
              "      <td>0.0</td>\n",
              "      <td>0.0</td>\n",
              "      <td>0.0</td>\n",
              "    </tr>\n",
              "  </tbody>\n",
              "</table>\n",
              "</div>"
            ],
            "text/plain": [
              "     gender application_date         education_level  ...  SQL  VBA other_y\n",
              "25     male       2021-02-19  High School (16 years)  ...  0.0  0.0     0.0\n",
              "92     male       2021-02-18                   Other  ...  1.0  0.0     0.0\n",
              "176    male       2021-02-19     Bachelors (bacc +4)  ...  0.0  0.0     0.0\n",
              "209  female       2021-02-16                   Other  ...  0.0  0.0     0.0\n",
              "210  female       2021-02-17                   Other  ...  1.0  0.0     0.0\n",
              "219    male       2021-02-19     Bachelors (bacc +4)  ...  0.0  0.0     1.0\n",
              "229    male       2021-02-20     Bachelors (bacc +4)  ...  0.0  0.0     0.0\n",
              "\n",
              "[7 rows x 38 columns]"
            ]
          },
          "metadata": {
            "tags": []
          },
          "execution_count": 571
        }
      ]
    },
    {
      "cell_type": "code",
      "metadata": {
        "id": "XvoKJfySp0XL"
      },
      "source": [
        "\n",
        "\n",
        "dts.age.replace({-1: np.nan, 0: np.nan, 1:np.nan}, inplace=True) "
      ],
      "execution_count": null,
      "outputs": []
    },
    {
      "cell_type": "code",
      "metadata": {
        "colab": {
          "base_uri": "https://localhost:8080/"
        },
        "id": "na2O99tPqpcf",
        "outputId": "a3a71c5b-8ce8-4ab4-bcda-b4f80d0ab785"
      },
      "source": [
        "pop_mean = dts.age.mean()\n",
        "pop_mean"
      ],
      "execution_count": null,
      "outputs": [
        {
          "output_type": "execute_result",
          "data": {
            "text/plain": [
              "27.27426160337553"
            ]
          },
          "metadata": {
            "tags": []
          },
          "execution_count": 573
        }
      ]
    },
    {
      "cell_type": "code",
      "metadata": {
        "id": "IWNjk2rTBDpm"
      },
      "source": [
        "#relace\n",
        "dts.age.replace({np.nan: pop_mean}, inplace=True)"
      ],
      "execution_count": null,
      "outputs": []
    },
    {
      "cell_type": "code",
      "metadata": {
        "id": "mPagrnJBrk8V"
      },
      "source": [
        "man = dts[dts.gender==\"male\"]\n",
        "woman = dts[dts.gender==\"female\"]"
      ],
      "execution_count": null,
      "outputs": []
    },
    {
      "cell_type": "code",
      "metadata": {
        "colab": {
          "base_uri": "https://localhost:8080/"
        },
        "id": "ltBCLIV8tG97",
        "outputId": "fccd1f8b-0b23-4499-fd9b-7e8301b1dc2e"
      },
      "source": [
        "man_mean = man.age.mean()\n",
        "woman_mean = woman.age.mean()\n",
        "print(f\"The men mean is : {round(man_mean,2)}\")\n",
        "print(f\"The women mean is : {round(woman_mean,2)}\")"
      ],
      "execution_count": null,
      "outputs": [
        {
          "output_type": "stream",
          "text": [
            "The men mean is : 27.5\n",
            "The women mean is : 26.3\n"
          ],
          "name": "stdout"
        }
      ]
    },
    {
      "cell_type": "code",
      "metadata": {
        "colab": {
          "base_uri": "https://localhost:8080/"
        },
        "id": "dbuvMLcy1V7E",
        "outputId": "b7842fdd-c387-4393-e772-27e992ec26ab"
      },
      "source": [
        "#create a function to calculate the variance, kurtosis and skewness\n",
        "def calcul_bs(data=dts, col=\"age\"):\n",
        "  var1 = data.age.var()\n",
        "  st1 = data.age.std()\n",
        "  kurtosis1 = kurtosis(data[col], fisher = False)\n",
        "  skew1 = skew(data[col])\n",
        "  print(f\"The variance is : {round(var1,2)}\")\n",
        "  print(f\"The standart dv is : {round(st1,2)}\")\n",
        "  print(f\"The kurtosis is : {round(kurtosis1,2)}\")\n",
        "  print(f\"The skewness is : {round(skew1,2)}\")\n",
        "\n",
        "print(\"For the whole dataset: \")\n",
        "calcul_bs()"
      ],
      "execution_count": null,
      "outputs": [
        {
          "output_type": "stream",
          "text": [
            "For the whole dataset: \n",
            "The variance is : 29.75\n",
            "The standart dv is : 5.45\n",
            "The kurtosis is : 5.52\n",
            "The skewness is : 1.45\n"
          ],
          "name": "stdout"
        }
      ]
    },
    {
      "cell_type": "code",
      "metadata": {
        "colab": {
          "base_uri": "https://localhost:8080/"
        },
        "id": "o9yxeVOF_zhf",
        "outputId": "3f199ec0-7fac-42ab-ceaa-29c2584f7556"
      },
      "source": [
        "print(\"For the whole male dataset: \")\n",
        "calcul_bs(data=man)"
      ],
      "execution_count": null,
      "outputs": [
        {
          "output_type": "stream",
          "text": [
            "For the whole male dataset: \n",
            "The variance is : 30.13\n",
            "The standart dv is : 5.49\n",
            "The kurtosis is : 5.37\n",
            "The skewness is : 1.38\n"
          ],
          "name": "stdout"
        }
      ]
    },
    {
      "cell_type": "code",
      "metadata": {
        "colab": {
          "base_uri": "https://localhost:8080/"
        },
        "id": "wP8L1AiP_2K1",
        "outputId": "328922e8-f15a-48a6-f5ba-d4aabbfa2220"
      },
      "source": [
        "print(\"For the whole male dataset: \")\n",
        "calcul_bs(data=woman)"
      ],
      "execution_count": null,
      "outputs": [
        {
          "output_type": "stream",
          "text": [
            "For the whole male dataset: \n",
            "The variance is : 27.51\n",
            "The standart dv is : 5.24\n",
            "The kurtosis is : 6.66\n",
            "The skewness is : 1.81\n"
          ],
          "name": "stdout"
        }
      ]
    },
    {
      "cell_type": "markdown",
      "metadata": {
        "id": "wQXI1_PaZFuq"
      },
      "source": [
        "### 3.Display the age frequency disbrution\n",
        "   * On the whole dataset\n",
        "   * On the whole male dataset\n",
        "   * On all the female dataset"
      ]
    },
    {
      "cell_type": "code",
      "metadata": {
        "colab": {
          "base_uri": "https://localhost:8080/",
          "height": 469
        },
        "id": "5LkN60BLAb7i",
        "outputId": "3378662c-cdff-4be5-a9ef-ed69bd0a1ef8"
      },
      "source": [
        "#Age distribution on the whole dataset\n",
        "fig, ax = plt.subplots(figsize = (10,7))\n",
        "dts[\"age\"].plot(kind = \"hist\", density = True, alpha = 0.65, bins = 15, color = \"skyblue\")\n",
        "dts[\"age\"].plot(kind = \"kde\")\n",
        "ax.set_title(\"Age distribution\", size = 17, pad = 10)"
      ],
      "execution_count": null,
      "outputs": [
        {
          "output_type": "execute_result",
          "data": {
            "text/plain": [
              "Text(0.5, 1.0, 'Age distribution')"
            ]
          },
          "metadata": {
            "tags": []
          },
          "execution_count": 580
        },
        {
          "output_type": "display_data",
          "data": {
            "image/png": "[encoded data removed]",
            "text/plain": [
              "<Figure size 720x504 with 1 Axes>"
            ]
          },
          "metadata": {
            "tags": []
          }
        }
      ]
    },
    {
      "cell_type": "code",
      "metadata": {
        "colab": {
          "base_uri": "https://localhost:8080/",
          "height": 469
        },
        "id": "0FnINUG3BrF2",
        "outputId": "f7697774-7e42-4c68-cf16-218ea7273d89"
      },
      "source": [
        "fig, ax = plt.subplots(figsize = (10,7))\n",
        "man[\"age\"].plot(kind = \"hist\", density = True, alpha = 0.65, bins = 15)\n",
        "man[\"age\"].plot(kind = \"kde\")\n",
        "ax.set_title(\"Age distribution\", size = 17, pad = 10)"
      ],
      "execution_count": null,
      "outputs": [
        {
          "output_type": "execute_result",
          "data": {
            "text/plain": [
              "Text(0.5, 1.0, 'Age distribution')"
            ]
          },
          "metadata": {
            "tags": []
          },
          "execution_count": 581
        },
        {
          "output_type": "display_data",
          "data": {
            "image/png": "[encoded data removed]",
            "text/plain": [
              "<Figure size 720x504 with 1 Axes>"
            ]
          },
          "metadata": {
            "tags": []
          }
        }
      ]
    },
    {
      "cell_type": "code",
      "metadata": {
        "colab": {
          "base_uri": "https://localhost:8080/",
          "height": 469
        },
        "id": "lDlyluojBv5N",
        "outputId": "180d1d51-6aec-4427-ac49-88de7be97ba0"
      },
      "source": [
        "\n",
        "fig, ax = plt.subplots(figsize = (10,7))\n",
        "woman[\"age\"].plot(kind = \"hist\", density = True, alpha = 0.65, bins = 15)\n",
        "woman[\"age\"].plot(kind = \"kde\")\n",
        "ax.set_title(\"Age distribution\", size = 17, pad = 10)"
      ],
      "execution_count": null,
      "outputs": [
        {
          "output_type": "execute_result",
          "data": {
            "text/plain": [
              "Text(0.5, 1.0, 'Age distribution')"
            ]
          },
          "metadata": {
            "tags": []
          },
          "execution_count": 582
        },
        {
          "output_type": "display_data",
          "data": {
            "image/png": "[encoded data removed]",
            "text/plain": [
              "<Figure size 720x504 with 1 Axes>"
            ]
          },
          "metadata": {
            "tags": []
          }
        }
      ]
    },
    {
      "cell_type": "markdown",
      "metadata": {
        "id": "CcPKWBrAZFuq"
      },
      "source": [
        "### 4. Can we say that the average age (24 years old) of the observations can be considered as the average age of the population likely to participate in this bootcamp. Justify your answer"
      ]
    },
    {
      "cell_type": "code",
      "metadata": {
        "colab": {
          "base_uri": "https://localhost:8080/"
        },
        "id": "6bDTaBQDZFuq",
        "outputId": "f673b713-aa07-4a40-cd89-030f9010759b"
      },
      "source": [
        "\n",
        "\n",
        "#here your codes\n",
        "#dataset info\n",
        "dts.info()"
      ],
      "execution_count": null,
      "outputs": [
        {
          "output_type": "stream",
          "text": [
            "<class 'pandas.core.frame.DataFrame'>\n",
            "Int64Index: 250 entries, 0 to 249\n",
            "Data columns (total 38 columns):\n",
            " #   Column                  Non-Null Count  Dtype         \n",
            "---  ------                  --------------  -----         \n",
            " 0   gender                  250 non-null    object        \n",
            " 1   application_date        250 non-null    datetime64[ns]\n",
            " 2   education_level         250 non-null    object        \n",
            " 3   job is formal           250 non-null    object        \n",
            " 4   have_computer_home      250 non-null    object        \n",
            " 5   internet_at_home        250 non-null    object        \n",
            " 6   Communication channels  250 non-null    object        \n",
            " 7   Bootcamp interest       250 non-null    object        \n",
            " 8   quest_id                250 non-null    object        \n",
            " 9   age                     250 non-null    float64       \n",
            " 10  Commune_en              250 non-null    object        \n",
            " 11  Departement             250 non-null    object        \n",
            " 12  enroll_date             102 non-null    object        \n",
            " 13  is_enroll               250 non-null    object        \n",
            " 14  user_id                 102 non-null    float64       \n",
            " 15  payment_date            65 non-null     datetime64[ns]\n",
            " 16  payed                   250 non-null    object        \n",
            " 17  Accounting              244 non-null    float64       \n",
            " 18  Computer Science        244 non-null    float64       \n",
            " 19  Economics               244 non-null    float64       \n",
            " 20  Electrical Engineering  244 non-null    float64       \n",
            " 21  Law                     244 non-null    float64       \n",
            " 22  Management              244 non-null    float64       \n",
            " 23  Medicine                244 non-null    float64       \n",
            " 24  Statistics              244 non-null    float64       \n",
            " 25  other_x                 244 non-null    float64       \n",
            " 26  Bash                    244 non-null    float64       \n",
            " 27  Excel                   244 non-null    float64       \n",
            " 28  Git                     244 non-null    float64       \n",
            " 29  Java                    244 non-null    float64       \n",
            " 30  JavaScript              244 non-null    float64       \n",
            " 31  PHP                     244 non-null    float64       \n",
            " 32  PowerBI or Tableau      244 non-null    float64       \n",
            " 33  Python                  244 non-null    float64       \n",
            " 34  R                       244 non-null    float64       \n",
            " 35  SQL                     244 non-null    float64       \n",
            " 36  VBA                     244 non-null    float64       \n",
            " 37  other_y                 244 non-null    float64       \n",
            "dtypes: datetime64[ns](2), float64(23), object(13)\n",
            "memory usage: 76.2+ KB\n"
          ],
          "name": "stdout"
        }
      ]
    },
    {
      "cell_type": "code",
      "metadata": {
        "colab": {
          "base_uri": "https://localhost:8080/"
        },
        "id": "uWDwvVowoeTd",
        "outputId": "b140f62e-8a30-4c7e-8fdb-a12bc8ff1a39"
      },
      "source": [
        "# H0 : Mu = 24\n",
        "# H1 : Mu != 24\n",
        "# stat ttest\n",
        "stat, p = ttest_1samp(dts.age.dropna(), popmean=24) #alternative=\"two-sided\")\n",
        "print('Statistics=%.2f, p=%.2f' % (stat, p))\n",
        "# interpretation\n",
        "alpha = 0.05\n",
        "if p > alpha:\n",
        "    print('ho mu=24 (fail to reject H0)')\n",
        "else:\n",
        "    print('h1 mu!= 24 (reject H0)')"
      ],
      "execution_count": null,
      "outputs": [
        {
          "output_type": "stream",
          "text": [
            "Statistics=9.49, p=0.00\n",
            "h1 mu!= 24 (reject H0)\n"
          ],
          "name": "stdout"
        }
      ]
    },
    {
      "cell_type": "markdown",
      "metadata": {
        "id": "40r_5oznspC_"
      },
      "source": [
        "\n",
        "###we reject the null hypothesis H0\n",
        "HA the average of the observation can't be considered as the average of the average of the population.\n"
      ]
    },
    {
      "cell_type": "markdown",
      "metadata": {
        "id": "AO_wAnOzZFuq"
      },
      "source": [
        "### 5. Calculate the average age of participants for each communication channel"
      ]
    },
    {
      "cell_type": "code",
      "metadata": {
        "colab": {
          "base_uri": "https://localhost:8080/"
        },
        "id": "y_36AC2tZFur",
        "outputId": "86ba6a09-8d57-4501-c548-458980748ee9"
      },
      "source": [
        "#here your codes\n",
        "#calcul the average age of participants for each communication channel\n",
        "avg_channels = pd.pivot_table(data=dts, index= \"Communication channels\", values=\"age\", aggfunc='mean')\n",
        "for index in avg_channels.index:\n",
        "  print(f\"The average age for {index} communication channel is: {round(avg_channels.at[index, 'age'])}\")"
      ],
      "execution_count": null,
      "outputs": [
        {
          "output_type": "stream",
          "text": [
            "The average age for Ayiti Analytics Website communication channel is: 27\n",
            "The average age for Bootcamp Alumni communication channel is: 26\n",
            "The average age for ESIH communication channel is: 25\n",
            "The average age for Facebook communication channel is: 27\n",
            "The average age for Friend communication channel is: 27\n",
            "The average age for Instagram communication channel is: 24\n",
            "The average age for LinkedIn communication channel is: 30\n",
            "The average age for WhatsApp communication channel is: 28\n",
            "The average age for other communication channel is: 28\n",
            "The average age for unknown communication channel is: 22\n"
          ],
          "name": "stdout"
        }
      ]
    },
    {
      "cell_type": "markdown",
      "metadata": {
        "id": "9LYEA389ZFur"
      },
      "source": [
        "### 6. Display an age boxplot for each communication channel"
      ]
    },
    {
      "cell_type": "code",
      "metadata": {
        "colab": {
          "base_uri": "https://localhost:8080/",
          "height": 354
        },
        "id": "FhMCCZjoH-Gs",
        "outputId": "750d1768-529f-4f6d-d79c-d4c8fbd9929d"
      },
      "source": [
        "# an age boxplot for each communication channel\n",
        "plt.figure(figsize=(10,5))\n",
        "sns.boxplot( x=dts[\"Communication channels\"], y=dts[\"age\"], palette=\"Paired\" );\n",
        "plt.title(\"Age distribution\")\n",
        "plt.show()"
      ],
      "execution_count": null,
      "outputs": [
        {
          "output_type": "display_data",
          "data": {
            "image/png": "[encoded data removed]",
            "text/plain": [
              "<Figure size 720x360 with 1 Axes>"
            ]
          },
          "metadata": {
            "tags": []
          }
        }
      ]
    },
    {
      "cell_type": "markdown",
      "metadata": {
        "id": "uls2gHtiuTcX"
      },
      "source": [
        "### The mean age is not the same for each communication channel. The mean age for each communication channel varies between 20 and 30."
      ]
    },
    {
      "cell_type": "markdown",
      "metadata": {
        "id": "E0X5Hhd_ZFur"
      },
      "source": [
        "### 7 .Is there a significant age difference between these groups\n",
        "\n",
        "A one-way ANOVA uses the following null and alternative hypotheses:\n",
        "\n",
        "H0 (null hypothesis): μ1 = μ2 = μ3 = … = μk (all the population means are equal)\n",
        "\n",
        "H1 (Alternative hypothesis): at least one population mean is different from the rest"
      ]
    },
    {
      "cell_type": "code",
      "metadata": {
        "id": "3_BXDsXmAucI"
      },
      "source": [
        "#here your codes\n",
        "dts1 = dts[dts[\"Communication channels\"]==\"Ayiti Analytics Website\"].age\n",
        "dts2 = dts[dts[\"Communication channels\"]==\"Friend\"].age\n",
        "dts3 = dts[dts[\"Communication channels\"]==\"Facebook\"].age\n",
        "dts4 = dts[dts[\"Communication channels\"]==\"ESIH\"].age\n",
        "dts5 = dts[dts[\"Communication channels\"]==\"LinkedIn\"].age\n",
        "dts6 = dts[dts[\"Communication channels\"]==\"Instagram\"].age\n",
        "dts7 = dts[dts[\"Communication channels\"]==\"WhatsApp\"].age\n",
        "dts8 = dts[dts[\"Communication channels\"]==\"Bootcamp Alumni\"].age\n",
        "dts9 = dts[dts[\"Communication channels\"]==\"other\"].age"
      ],
      "execution_count": null,
      "outputs": []
    },
    {
      "cell_type": "code",
      "metadata": {
        "colab": {
          "base_uri": "https://localhost:8080/"
        },
        "id": "6AkIBs-NddkA",
        "outputId": "c8f7b7fb-7f77-4e31-93d4-ff7493687ff6"
      },
      "source": [
        "tes_dts = f_oneway(dts1, dts2, dts3, dts4, dts5, dts6, dts7, dts8, dts9)\n",
        "if tes_dts.pvalue>0.05:\n",
        "  print(\"We fail to reject HO, there is no difference in the group age mean.\")\n",
        "else:\n",
        "  print(\"There is a difference in the group mean age mean.\")\n",
        "tes_dts"
      ],
      "execution_count": null,
      "outputs": [
        {
          "output_type": "stream",
          "text": [
            "We fail to reject HO, there is no difference in the group age mean.\n"
          ],
          "name": "stdout"
        },
        {
          "output_type": "execute_result",
          "data": {
            "text/plain": [
              "F_onewayResult(statistic=1.2149809304679968, pvalue=0.2907198921134706)"
            ]
          },
          "metadata": {
            "tags": []
          },
          "execution_count": 588
        }
      ]
    },
    {
      "cell_type": "markdown",
      "metadata": {
        "id": "LJcdHf57ZFur"
      },
      "source": [
        "### 8.Plan a BA strategy for each communication channel regarding the age group"
      ]
    },
    {
      "cell_type": "code",
      "metadata": {
        "id": "j2mN1cffZFur",
        "colab": {
          "base_uri": "https://localhost:8080/",
          "height": 390
        },
        "outputId": "89f356f7-8ca3-4d1e-a37a-e7e212776b8a"
      },
      "source": [
        "#here your codes\n",
        "avg_channels"
      ],
      "execution_count": null,
      "outputs": [
        {
          "output_type": "execute_result",
          "data": {
            "text/html": [
              "<div>\n",
              "<style scoped>\n",
              "    .dataframe tbody tr th:only-of-type {\n",
              "        vertical-align: middle;\n",
              "    }\n",
              "\n",
              "    .dataframe tbody tr th {\n",
              "        vertical-align: top;\n",
              "    }\n",
              "\n",
              "    .dataframe thead th {\n",
              "        text-align: right;\n",
              "    }\n",
              "</style>\n",
              "<table border=\"1\" class=\"dataframe\">\n",
              "  <thead>\n",
              "    <tr style=\"text-align: right;\">\n",
              "      <th></th>\n",
              "      <th>age</th>\n",
              "    </tr>\n",
              "    <tr>\n",
              "      <th>Communication channels</th>\n",
              "      <th></th>\n",
              "    </tr>\n",
              "  </thead>\n",
              "  <tbody>\n",
              "    <tr>\n",
              "      <th>Ayiti Analytics Website</th>\n",
              "      <td>27.000000</td>\n",
              "    </tr>\n",
              "    <tr>\n",
              "      <th>Bootcamp Alumni</th>\n",
              "      <td>26.285714</td>\n",
              "    </tr>\n",
              "    <tr>\n",
              "      <th>ESIH</th>\n",
              "      <td>25.141585</td>\n",
              "    </tr>\n",
              "    <tr>\n",
              "      <th>Facebook</th>\n",
              "      <td>27.470570</td>\n",
              "    </tr>\n",
              "    <tr>\n",
              "      <th>Friend</th>\n",
              "      <td>27.008187</td>\n",
              "    </tr>\n",
              "    <tr>\n",
              "      <th>Instagram</th>\n",
              "      <td>24.400000</td>\n",
              "    </tr>\n",
              "    <tr>\n",
              "      <th>LinkedIn</th>\n",
              "      <td>30.018284</td>\n",
              "    </tr>\n",
              "    <tr>\n",
              "      <th>WhatsApp</th>\n",
              "      <td>27.793505</td>\n",
              "    </tr>\n",
              "    <tr>\n",
              "      <th>other</th>\n",
              "      <td>28.444444</td>\n",
              "    </tr>\n",
              "    <tr>\n",
              "      <th>unknown</th>\n",
              "      <td>22.000000</td>\n",
              "    </tr>\n",
              "  </tbody>\n",
              "</table>\n",
              "</div>"
            ],
            "text/plain": [
              "                               age\n",
              "Communication channels            \n",
              "Ayiti Analytics Website  27.000000\n",
              "Bootcamp Alumni          26.285714\n",
              "ESIH                     25.141585\n",
              "Facebook                 27.470570\n",
              "Friend                   27.008187\n",
              "Instagram                24.400000\n",
              "LinkedIn                 30.018284\n",
              "WhatsApp                 27.793505\n",
              "other                    28.444444\n",
              "unknown                  22.000000"
            ]
          },
          "metadata": {
            "tags": []
          },
          "execution_count": 589
        }
      ]
    },
    {
      "cell_type": "markdown",
      "metadata": {
        "id": "I62uDNCo8FcM"
      },
      "source": [
        "###According to the results most of the candidates are between 20 and 30 years old, so as a BA strategy it would be more favorable for Ayiti Analytics to persuade this age group to participate given their interest in the results for the domain. This allowed me to suggest to Ayiti Analytics to split the market to group these consumers with these needs by focusing their marketing strategy on these channels: Ayiti Analytics, Bootcamp Alumni, ESIH, Friend, whatsapp and linkedin since \n",
        " these candidates have an average age very close to the average age of the data set.\n",
        "\n"
      ]
    },
    {
      "cell_type": "markdown",
      "metadata": {
        "id": "0zdfIRq-ZFus"
      },
      "source": [
        "### 9.According to the observations what is the probability of being in each channel of communication knowing your are a woman"
      ]
    },
    {
      "cell_type": "code",
      "metadata": {
        "id": "rNvWMWzlZFus",
        "colab": {
          "base_uri": "https://localhost:8080/"
        },
        "outputId": "39563745-f5ee-4f19-a8b1-87a7b2093a0e"
      },
      "source": [
        "\n",
        "#here your codes\n",
        "comchanel = pd.crosstab(dts.gender, dts[\"Communication channels\"], margins=True, normalize=\"index\")\n",
        "for col in comchanel.columns:\n",
        "  print(f\"The proba of {col} knowing woman is: {round(comchanel.at['female', col],3)}\")"
      ],
      "execution_count": null,
      "outputs": [
        {
          "output_type": "stream",
          "text": [
            "The proba of Ayiti Analytics Website knowing woman is: 0.085\n",
            "The proba of Bootcamp Alumni knowing woman is: 0.17\n",
            "The proba of ESIH knowing woman is: 0.106\n",
            "The proba of Facebook knowing woman is: 0.128\n",
            "The proba of Friend knowing woman is: 0.234\n",
            "The proba of Instagram knowing woman is: 0.021\n",
            "The proba of LinkedIn knowing woman is: 0.021\n",
            "The proba of WhatsApp knowing woman is: 0.191\n",
            "The proba of other knowing woman is: 0.043\n",
            "The proba of unknown knowing woman is: 0.0\n"
          ],
          "name": "stdout"
        }
      ]
    },
    {
      "cell_type": "markdown",
      "metadata": {
        "id": "Eziwaul4ZFus"
      },
      "source": [
        "### 10.According to the observations what is the probability of being in each channel of communication knowing your are a man"
      ]
    },
    {
      "cell_type": "code",
      "metadata": {
        "id": "oQFwzMf4DKep",
        "colab": {
          "base_uri": "https://localhost:8080/",
          "height": 173
        },
        "outputId": "abf70629-e1a6-4793-c287-7d0d9d21032e"
      },
      "source": [
        "\n",
        "comchanel"
      ],
      "execution_count": null,
      "outputs": [
        {
          "output_type": "execute_result",
          "data": {
            "text/html": [
              "<div>\n",
              "<style scoped>\n",
              "    .dataframe tbody tr th:only-of-type {\n",
              "        vertical-align: middle;\n",
              "    }\n",
              "\n",
              "    .dataframe tbody tr th {\n",
              "        vertical-align: top;\n",
              "    }\n",
              "\n",
              "    .dataframe thead th {\n",
              "        text-align: right;\n",
              "    }\n",
              "</style>\n",
              "<table border=\"1\" class=\"dataframe\">\n",
              "  <thead>\n",
              "    <tr style=\"text-align: right;\">\n",
              "      <th>Communication channels</th>\n",
              "      <th>Ayiti Analytics Website</th>\n",
              "      <th>Bootcamp Alumni</th>\n",
              "      <th>ESIH</th>\n",
              "      <th>Facebook</th>\n",
              "      <th>Friend</th>\n",
              "      <th>Instagram</th>\n",
              "      <th>LinkedIn</th>\n",
              "      <th>WhatsApp</th>\n",
              "      <th>other</th>\n",
              "      <th>unknown</th>\n",
              "    </tr>\n",
              "    <tr>\n",
              "      <th>gender</th>\n",
              "      <th></th>\n",
              "      <th></th>\n",
              "      <th></th>\n",
              "      <th></th>\n",
              "      <th></th>\n",
              "      <th></th>\n",
              "      <th></th>\n",
              "      <th></th>\n",
              "      <th></th>\n",
              "      <th></th>\n",
              "    </tr>\n",
              "  </thead>\n",
              "  <tbody>\n",
              "    <tr>\n",
              "      <th>female</th>\n",
              "      <td>0.085106</td>\n",
              "      <td>0.170213</td>\n",
              "      <td>0.106383</td>\n",
              "      <td>0.127660</td>\n",
              "      <td>0.234043</td>\n",
              "      <td>0.021277</td>\n",
              "      <td>0.021277</td>\n",
              "      <td>0.191489</td>\n",
              "      <td>0.042553</td>\n",
              "      <td>0.000000</td>\n",
              "    </tr>\n",
              "    <tr>\n",
              "      <th>male</th>\n",
              "      <td>0.054187</td>\n",
              "      <td>0.029557</td>\n",
              "      <td>0.064039</td>\n",
              "      <td>0.167488</td>\n",
              "      <td>0.275862</td>\n",
              "      <td>0.019704</td>\n",
              "      <td>0.068966</td>\n",
              "      <td>0.280788</td>\n",
              "      <td>0.034483</td>\n",
              "      <td>0.004926</td>\n",
              "    </tr>\n",
              "    <tr>\n",
              "      <th>All</th>\n",
              "      <td>0.060000</td>\n",
              "      <td>0.056000</td>\n",
              "      <td>0.072000</td>\n",
              "      <td>0.160000</td>\n",
              "      <td>0.268000</td>\n",
              "      <td>0.020000</td>\n",
              "      <td>0.060000</td>\n",
              "      <td>0.264000</td>\n",
              "      <td>0.036000</td>\n",
              "      <td>0.004000</td>\n",
              "    </tr>\n",
              "  </tbody>\n",
              "</table>\n",
              "</div>"
            ],
            "text/plain": [
              "Communication channels  Ayiti Analytics Website  ...   unknown\n",
              "gender                                           ...          \n",
              "female                                 0.085106  ...  0.000000\n",
              "male                                   0.054187  ...  0.004926\n",
              "All                                    0.060000  ...  0.004000\n",
              "\n",
              "[3 rows x 10 columns]"
            ]
          },
          "metadata": {
            "tags": []
          },
          "execution_count": 591
        }
      ]
    },
    {
      "cell_type": "code",
      "metadata": {
        "id": "20hGk7bjP3sq",
        "colab": {
          "base_uri": "https://localhost:8080/"
        },
        "outputId": "04dd3d16-df16-48a2-c2ad-7e765b1a8a1c"
      },
      "source": [
        "for col in comchanel.columns:\n",
        "  print(f\"The proba of {col} knowing man is: {round(comchanel.at['male', col],3)}\")"
      ],
      "execution_count": null,
      "outputs": [
        {
          "output_type": "stream",
          "text": [
            "The proba of Ayiti Analytics Website knowing man is: 0.054\n",
            "The proba of Bootcamp Alumni knowing man is: 0.03\n",
            "The proba of ESIH knowing man is: 0.064\n",
            "The proba of Facebook knowing man is: 0.167\n",
            "The proba of Friend knowing man is: 0.276\n",
            "The proba of Instagram knowing man is: 0.02\n",
            "The proba of LinkedIn knowing man is: 0.069\n",
            "The proba of WhatsApp knowing man is: 0.281\n",
            "The proba of other knowing man is: 0.034\n",
            "The proba of unknown knowing man is: 0.005\n"
          ],
          "name": "stdout"
        }
      ]
    },
    {
      "cell_type": "code",
      "metadata": {
        "id": "km22aD1gZFus"
      },
      "source": [
        "#here your codes"
      ],
      "execution_count": null,
      "outputs": []
    },
    {
      "cell_type": "markdown",
      "metadata": {
        "id": "eG5yZx-GZFut"
      },
      "source": [
        "### 11. Deduce the probability of being a woman knowing each communication channel"
      ]
    },
    {
      "cell_type": "code",
      "metadata": {
        "id": "iO9L03HaCusR",
        "colab": {
          "base_uri": "https://localhost:8080/",
          "height": 142
        },
        "outputId": "83bdf418-8591-431e-fc76-219fd22396db"
      },
      "source": [
        "gen_chan"
      ],
      "execution_count": null,
      "outputs": [
        {
          "output_type": "execute_result",
          "data": {
            "text/html": [
              "<div>\n",
              "<style scoped>\n",
              "    .dataframe tbody tr th:only-of-type {\n",
              "        vertical-align: middle;\n",
              "    }\n",
              "\n",
              "    .dataframe tbody tr th {\n",
              "        vertical-align: top;\n",
              "    }\n",
              "\n",
              "    .dataframe thead th {\n",
              "        text-align: right;\n",
              "    }\n",
              "</style>\n",
              "<table border=\"1\" class=\"dataframe\">\n",
              "  <thead>\n",
              "    <tr style=\"text-align: right;\">\n",
              "      <th>Communication channels</th>\n",
              "      <th>Ayiti Analytics Website</th>\n",
              "      <th>Bootcamp Alumni</th>\n",
              "      <th>ESIH</th>\n",
              "      <th>Facebook</th>\n",
              "      <th>Friend</th>\n",
              "      <th>Instagram</th>\n",
              "      <th>LinkedIn</th>\n",
              "      <th>WhatsApp</th>\n",
              "      <th>other</th>\n",
              "      <th>unknown</th>\n",
              "      <th>All</th>\n",
              "    </tr>\n",
              "    <tr>\n",
              "      <th>gender</th>\n",
              "      <th></th>\n",
              "      <th></th>\n",
              "      <th></th>\n",
              "      <th></th>\n",
              "      <th></th>\n",
              "      <th></th>\n",
              "      <th></th>\n",
              "      <th></th>\n",
              "      <th></th>\n",
              "      <th></th>\n",
              "      <th></th>\n",
              "    </tr>\n",
              "  </thead>\n",
              "  <tbody>\n",
              "    <tr>\n",
              "      <th>female</th>\n",
              "      <td>0.266667</td>\n",
              "      <td>0.571429</td>\n",
              "      <td>0.277778</td>\n",
              "      <td>0.15</td>\n",
              "      <td>0.164179</td>\n",
              "      <td>0.2</td>\n",
              "      <td>0.066667</td>\n",
              "      <td>0.136364</td>\n",
              "      <td>0.222222</td>\n",
              "      <td>0.0</td>\n",
              "      <td>0.188</td>\n",
              "    </tr>\n",
              "    <tr>\n",
              "      <th>male</th>\n",
              "      <td>0.733333</td>\n",
              "      <td>0.428571</td>\n",
              "      <td>0.722222</td>\n",
              "      <td>0.85</td>\n",
              "      <td>0.835821</td>\n",
              "      <td>0.8</td>\n",
              "      <td>0.933333</td>\n",
              "      <td>0.863636</td>\n",
              "      <td>0.777778</td>\n",
              "      <td>1.0</td>\n",
              "      <td>0.812</td>\n",
              "    </tr>\n",
              "  </tbody>\n",
              "</table>\n",
              "</div>"
            ],
            "text/plain": [
              "Communication channels  Ayiti Analytics Website  ...    All\n",
              "gender                                           ...       \n",
              "female                                 0.266667  ...  0.188\n",
              "male                                   0.733333  ...  0.812\n",
              "\n",
              "[2 rows x 11 columns]"
            ]
          },
          "metadata": {
            "tags": []
          },
          "execution_count": 594
        }
      ]
    },
    {
      "cell_type": "code",
      "metadata": {
        "id": "Nr0Ww2hQZFut",
        "colab": {
          "base_uri": "https://localhost:8080/"
        },
        "outputId": "bd6eacf8-bb00-4fc8-ee63-b5ad5dd64bf2"
      },
      "source": [
        "#here your codes\n",
        "gen_chan = pd.crosstab(dts.gender, dts[\"Communication channels\"], margins=True, normalize=\"columns\")\n",
        "for col in gen_chan.columns:\n",
        "  print(f\"The proba of being a woman knowing knowing {col} is: {round(gen_chan.at['female', col], 3)}\")"
      ],
      "execution_count": null,
      "outputs": [
        {
          "output_type": "stream",
          "text": [
            "The proba of being a woman knowing knowing Ayiti Analytics Website is: 0.267\n",
            "The proba of being a woman knowing knowing Bootcamp Alumni is: 0.571\n",
            "The proba of being a woman knowing knowing ESIH is: 0.278\n",
            "The proba of being a woman knowing knowing Facebook is: 0.15\n",
            "The proba of being a woman knowing knowing Friend is: 0.164\n",
            "The proba of being a woman knowing knowing Instagram is: 0.2\n",
            "The proba of being a woman knowing knowing LinkedIn is: 0.067\n",
            "The proba of being a woman knowing knowing WhatsApp is: 0.136\n",
            "The proba of being a woman knowing knowing other is: 0.222\n",
            "The proba of being a woman knowing knowing unknown is: 0.0\n",
            "The proba of being a woman knowing knowing All is: 0.188\n"
          ],
          "name": "stdout"
        }
      ]
    },
    {
      "cell_type": "markdown",
      "metadata": {
        "id": "ooCUqQq4ZFut"
      },
      "source": [
        "### 13. Deduce the probability of being a woman knowing each communication channel"
      ]
    },
    {
      "cell_type": "code",
      "metadata": {
        "id": "sqcxxSidZFut",
        "colab": {
          "base_uri": "https://localhost:8080/"
        },
        "outputId": "57b41cd8-8501-4af2-bd54-6d997c4c6cc7"
      },
      "source": [
        "# here your codes\n",
        "gen_chan = pd.crosstab(dts.gender, dts[\"Communication channels\"], margins=True, normalize=\"columns\")\n",
        "for col in gen_chan.columns:\n",
        "  print(f\"The proba of being a woman knowing knowing {col} is: {round(gen_chan.at['female', col], 3)}\")\n"
      ],
      "execution_count": null,
      "outputs": [
        {
          "output_type": "stream",
          "text": [
            "The proba of being a woman knowing knowing Ayiti Analytics Website is: 0.267\n",
            "The proba of being a woman knowing knowing Bootcamp Alumni is: 0.571\n",
            "The proba of being a woman knowing knowing ESIH is: 0.278\n",
            "The proba of being a woman knowing knowing Facebook is: 0.15\n",
            "The proba of being a woman knowing knowing Friend is: 0.164\n",
            "The proba of being a woman knowing knowing Instagram is: 0.2\n",
            "The proba of being a woman knowing knowing LinkedIn is: 0.067\n",
            "The proba of being a woman knowing knowing WhatsApp is: 0.136\n",
            "The proba of being a woman knowing knowing other is: 0.222\n",
            "The proba of being a woman knowing knowing unknown is: 0.0\n",
            "The proba of being a woman knowing knowing All is: 0.188\n"
          ],
          "name": "stdout"
        }
      ]
    },
    {
      "cell_type": "markdown",
      "metadata": {
        "id": "0eQnXYB6ZFut"
      },
      "source": [
        "### 14. Deduce the probability of being a man knowing each communication channel"
      ]
    },
    {
      "cell_type": "code",
      "metadata": {
        "id": "j1KQ-DAEZFut",
        "colab": {
          "base_uri": "https://localhost:8080/"
        },
        "outputId": "f8cf4cf3-e3ef-488f-cd0d-196666e4dc8b"
      },
      "source": [
        "#here your codes\n",
        "for col in comchanel.columns:\n",
        "  print(f\"The proba of being a woman knowing knowing {col} is: {round(gen_chan.at['male', col],3)}\")"
      ],
      "execution_count": null,
      "outputs": [
        {
          "output_type": "stream",
          "text": [
            "The proba of being a woman knowing knowing Ayiti Analytics Website is: 0.733\n",
            "The proba of being a woman knowing knowing Bootcamp Alumni is: 0.429\n",
            "The proba of being a woman knowing knowing ESIH is: 0.722\n",
            "The proba of being a woman knowing knowing Facebook is: 0.85\n",
            "The proba of being a woman knowing knowing Friend is: 0.836\n",
            "The proba of being a woman knowing knowing Instagram is: 0.8\n",
            "The proba of being a woman knowing knowing LinkedIn is: 0.933\n",
            "The proba of being a woman knowing knowing WhatsApp is: 0.864\n",
            "The proba of being a woman knowing knowing other is: 0.778\n",
            "The proba of being a woman knowing knowing unknown is: 1.0\n"
          ],
          "name": "stdout"
        }
      ]
    },
    {
      "cell_type": "markdown",
      "metadata": {
        "id": "lK643rdFZFuu"
      },
      "source": [
        "### 15 Display a plot to see Gender vs Communication Channels .Is there any dependency between communication channels and gender?"
      ]
    },
    {
      "cell_type": "code",
      "metadata": {
        "id": "FvjklAMEZFuu",
        "colab": {
          "base_uri": "https://localhost:8080/",
          "height": 474
        },
        "outputId": "a65769da-27fd-42a1-cdb5-da337d1db15f"
      },
      "source": [
        "#here your codes\n",
        "com_gen = pd.crosstab(dts[\"Communication channels\"], dts[\"gender\"], normalize=False, margins = True)\n",
        "chi2, pval, dof, expected = chi2_contingency(com_gen[com_gen.All>5].iloc[:-1,:-1])\n",
        "if pval<0.05:\n",
        "    print(f\"{round(pval,4)} is smaller than 0.05. We conclude that there is dependency betwenn these variables.\")\n",
        "com_gen.iloc[:-1,:-1].plot.bar(figsize=(10,5))"
      ],
      "execution_count": null,
      "outputs": [
        {
          "output_type": "stream",
          "text": [
            "0.0107 is smaller than 0.05. We conclude that there is dependency betwenn these variables.\n"
          ],
          "name": "stdout"
        },
        {
          "output_type": "execute_result",
          "data": {
            "text/plain": [
              "<matplotlib.axes._subplots.AxesSubplot at 0x7f7c13df0350>"
            ]
          },
          "metadata": {
            "tags": []
          },
          "execution_count": 598
        },
        {
          "output_type": "display_data",
          "data": {
            "image/png": "[encoded data removed]",
            "text/plain": [
              "<Figure size 720x360 with 1 Axes>"
            ]
          },
          "metadata": {
            "tags": []
          }
        }
      ]
    },
    {
      "cell_type": "markdown",
      "metadata": {
        "id": "2gZ-sVPyZFuu"
      },
      "source": [
        "### 16 Use the same method to display plot and know if is there any dependency between communication channels and Bootcamp Insterest?"
      ]
    },
    {
      "cell_type": "code",
      "metadata": {
        "id": "bOFtk1xwZFuu",
        "colab": {
          "base_uri": "https://localhost:8080/",
          "height": 457
        },
        "outputId": "fee44439-9b72-41b5-fd0f-6c9b710b1233"
      },
      "source": [
        "# here your codes\n",
        "com_int = pd.crosstab(dts[\"Communication channels\"], dts[\"Bootcamp interest\"], normalize=False, margins = True)\n",
        "chi2, pval, dof, expected = chi2_contingency(com_int[com_int.All>5].iloc[:-1,:-1])\n",
        "if pval<0.05:\n",
        "    print(f\"{round(pval,4)} is smaller than 0.05. We conclude that there is dependency betwenn these variables.\")\n",
        "com_int.iloc[:-1,:-1].plot.bar(figsize=(10,5))"
      ],
      "execution_count": null,
      "outputs": [
        {
          "output_type": "execute_result",
          "data": {
            "text/plain": [
              "<matplotlib.axes._subplots.AxesSubplot at 0x7f7c13b9c110>"
            ]
          },
          "metadata": {
            "tags": []
          },
          "execution_count": 599
        },
        {
          "output_type": "display_data",
          "data": {
            "image/png": "[encoded data removed]",
            "text/plain": [
              "<Figure size 720x360 with 1 Axes>"
            ]
          },
          "metadata": {
            "tags": []
          }
        }
      ]
    },
    {
      "cell_type": "markdown",
      "metadata": {
        "id": "FOYjNkNK7XAy"
      },
      "source": [
        "###The two variables are dependent (reject Null Hypothesis H0)"
      ]
    },
    {
      "cell_type": "markdown",
      "metadata": {
        "id": "FFdh-SSEZFuu"
      },
      "source": [
        "### 17.Plan a BA  strategy for each communication channel, Bootcamp Insterest regarding the gender "
      ]
    },
    {
      "cell_type": "code",
      "metadata": {
        "id": "TfSdCvsVZFuu"
      },
      "source": [
        "#here your codes"
      ],
      "execution_count": null,
      "outputs": []
    },
    {
      "cell_type": "markdown",
      "metadata": {
        "id": "Q6VoaQDXJfUL"
      },
      "source": [
        "By analyzing the results accordind to the gender of the candidates  we can say that there is a correlation between the Communication Channel and the interest  in the Bootcamp. The most used Channel by candidates who want to improve teir skills and find a job are WhastApp and Friends.\n",
        "Therefore,they must be able to assist candidates in achieving their goals."
      ]
    },
    {
      "cell_type": "markdown",
      "metadata": {
        "id": "7pU0pHFLFcgv"
      },
      "source": [
        ""
      ]
    },
    {
      "cell_type": "markdown",
      "metadata": {
        "id": "jKkvgByCZFuv"
      },
      "source": [
        "### 18.Plan a BA  strategy for each communication channel, Bootcamp Insterest regarding the gender"
      ]
    },
    {
      "cell_type": "code",
      "metadata": {
        "id": "csCwHFPTZFuv"
      },
      "source": [
        "# here your codes"
      ],
      "execution_count": null,
      "outputs": []
    },
    {
      "cell_type": "markdown",
      "metadata": {
        "id": "GxlbUckhReT5"
      },
      "source": [
        "By analyzing the results accordind to the gender of the candidates  we can say that there is a correlation between the Communication Channel and the interest  in the Bootcamp. The most used Channel by candidates who want to improve teir skills and find a job are WhastApp and Friends.\n",
        "Therefore,they must be able to assist candidates in achieving their goals."
      ]
    },
    {
      "cell_type": "markdown",
      "metadata": {
        "id": "3WquR88mZFuv"
      },
      "source": [
        "### 19. Calculate \n",
        "    * P(Bootcamp Insterest,Communication channels,Gender/Payed=yes)\n",
        "    * P(Bootcamp Insterest,Communication channels,Gender/Payed=no)"
      ]
    },
    {
      "cell_type": "code",
      "metadata": {
        "id": "h4VuOMZb3-gq"
      },
      "source": [
        "# shape\n",
        "yes=len(dts[dts[\"payed\"]=='yes'])\n",
        "no=len(dts)-yes"
      ],
      "execution_count": null,
      "outputs": []
    },
    {
      "cell_type": "code",
      "metadata": {
        "id": "UzOgP96F4X7o",
        "colab": {
          "base_uri": "https://localhost:8080/"
        },
        "outputId": "f8718545-3fb2-4fb3-bbc2-85c696e3717f"
      },
      "source": [
        "dts1=pd.pivot_table(dts[dts['payed']==\"yes\"],values='quest_id',index=['Bootcamp interest','Communication channels','gender'], aggfunc='count')\n",
        "dts1=dts1/yes\n",
        "print('Probabilities for a payed applicant by his interest for the bootcamp, his gender and his communication channel')\n",
        "print(dts1)"
      ],
      "execution_count": null,
      "outputs": [
        {
          "output_type": "stream",
          "text": [
            "Probabilities for a payed applicant by his interest for the bootcamp, his gender and his communication channel\n",
            "                                                                  quest_id\n",
            "Bootcamp interest                 Communication channels  gender          \n",
            "Finding a job/internship          Ayiti Analytics Website male    0.015385\n",
            "                                  Bootcamp Alumni         female  0.015385\n",
            "                                  ESIH                    male    0.015385\n",
            "                                  Facebook                male    0.015385\n",
            "                                  Friend                  female  0.015385\n",
            "                                                          male    0.030769\n",
            "                                  Instagram               male    0.015385\n",
            "                                  LinkedIn                male    0.015385\n",
            "                                  WhatsApp                female  0.015385\n",
            "                                                          male    0.046154\n",
            "Improving my data analysis skills Ayiti Analytics Website male    0.015385\n",
            "                                  Bootcamp Alumni         female  0.015385\n",
            "                                                          male    0.076923\n",
            "                                  ESIH                    male    0.030769\n",
            "                                  Facebook                female  0.030769\n",
            "                                                          male    0.076923\n",
            "                                  Friend                  female  0.030769\n",
            "                                                          male    0.215385\n",
            "                                  LinkedIn                female  0.015385\n",
            "                                                          male    0.015385\n",
            "                                  WhatsApp                female  0.046154\n",
            "                                                          male    0.046154\n",
            "                                  other                   male    0.015385\n",
            "Mentorship                        other                   female  0.015385\n",
            "Switching careers                 Bootcamp Alumni         female  0.015385\n",
            "Training to start my own company  Ayiti Analytics Website male    0.015385\n",
            "                                  Facebook                male    0.015385\n",
            "                                  Friend                  male    0.046154\n",
            "                                  WhatsApp                male    0.030769\n",
            "other                             ESIH                    male    0.015385\n",
            "                                  WhatsApp                male    0.015385\n"
          ],
          "name": "stdout"
        }
      ]
    },
    {
      "cell_type": "code",
      "metadata": {
        "id": "vxagprWA6rCE",
        "colab": {
          "base_uri": "https://localhost:8080/",
          "height": 1000
        },
        "outputId": "e33e1eb4-3198-4b46-aaea-14c21ef5e509"
      },
      "source": [
        "dts2=pd.pivot_table(dts[dts['payed']==\"no\"],values='quest_id',index=['Bootcamp interest','Communication channels','gender'], aggfunc='count')\n",
        "dts2=dts2/no\n",
        "print('Probabilities for a non-payed applicant by his interest for the bootcamp, his gender and his communication channel')\n",
        "print(dts2)\n",
        "dts2"
      ],
      "execution_count": null,
      "outputs": [
        {
          "output_type": "stream",
          "text": [
            "Probabilities for a non-payed applicant by his interest for the bootcamp, his gender and his communication channel\n",
            "                                                                  quest_id\n",
            "Bootcamp interest                 Communication channels  gender          \n",
            "Finding a job/internship          Bootcamp Alumni         female  0.010811\n",
            "                                  ESIH                    male    0.005405\n",
            "                                  Facebook                female  0.010811\n",
            "                                                          male    0.037838\n",
            "                                  Friend                  female  0.016216\n",
            "                                                          male    0.021622\n",
            "                                  Instagram               male    0.005405\n",
            "                                  LinkedIn                male    0.005405\n",
            "                                  WhatsApp                male    0.037838\n",
            "                                  other                   male    0.010811\n",
            "Improving my data analysis skills Ayiti Analytics Website female  0.010811\n",
            "                                                          male    0.032432\n",
            "                                  Bootcamp Alumni         female  0.010811\n",
            "                                  ESIH                    female  0.016216\n",
            "                                                          male    0.037838\n",
            "                                  Facebook                male    0.070270\n",
            "                                  Friend                  female  0.021622\n",
            "                                                          male    0.097297\n",
            "                                  LinkedIn                male    0.043243\n",
            "                                  WhatsApp                female  0.016216\n",
            "                                                          male    0.108108\n",
            "                                  other                   female  0.005405\n",
            "                                                          male    0.010811\n",
            "Mentorship                        Ayiti Analytics Website male    0.005405\n",
            "                                  ESIH                    female  0.005405\n",
            "                                  Facebook                female  0.010811\n",
            "                                                          male    0.005405\n",
            "                                  Friend                  male    0.005405\n",
            "                                  WhatsApp                male    0.032432\n",
            "Switching careers                 Ayiti Analytics Website female  0.005405\n",
            "                                                          male    0.005405\n",
            "                                  Facebook                male    0.016216\n",
            "                                  Friend                  male    0.021622\n",
            "                                  Instagram               male    0.005405\n",
            "                                  LinkedIn                male    0.005405\n",
            "                                  WhatsApp                female  0.005405\n",
            "                                                          male    0.037838\n",
            "Training to start my own company  Ayiti Analytics Website female  0.005405\n",
            "                                  Bootcamp Alumni         female  0.005405\n",
            "                                  ESIH                    female  0.005405\n",
            "                                                          male    0.005405\n",
            "                                  Facebook                male    0.016216\n",
            "                                  Friend                  female  0.005405\n",
            "                                                          male    0.054054\n",
            "                                  Instagram               female  0.005405\n",
            "                                                          male    0.005405\n",
            "                                  LinkedIn                male    0.010811\n",
            "                                  WhatsApp                female  0.005405\n",
            "                                                          male    0.043243\n",
            "                                  other                   male    0.005405\n",
            "other                             other                   male    0.005405\n",
            "unknown                           Bootcamp Alumni         male    0.005405\n",
            "                                  unknown                 male    0.005405\n"
          ],
          "name": "stdout"
        },
        {
          "output_type": "execute_result",
          "data": {
            "text/html": [
              "<div>\n",
              "<style scoped>\n",
              "    .dataframe tbody tr th:only-of-type {\n",
              "        vertical-align: middle;\n",
              "    }\n",
              "\n",
              "    .dataframe tbody tr th {\n",
              "        vertical-align: top;\n",
              "    }\n",
              "\n",
              "    .dataframe thead th {\n",
              "        text-align: right;\n",
              "    }\n",
              "</style>\n",
              "<table border=\"1\" class=\"dataframe\">\n",
              "  <thead>\n",
              "    <tr style=\"text-align: right;\">\n",
              "      <th></th>\n",
              "      <th></th>\n",
              "      <th></th>\n",
              "      <th>quest_id</th>\n",
              "    </tr>\n",
              "    <tr>\n",
              "      <th>Bootcamp interest</th>\n",
              "      <th>Communication channels</th>\n",
              "      <th>gender</th>\n",
              "      <th></th>\n",
              "    </tr>\n",
              "  </thead>\n",
              "  <tbody>\n",
              "    <tr>\n",
              "      <th rowspan=\"10\" valign=\"top\">Finding a job/internship</th>\n",
              "      <th>Bootcamp Alumni</th>\n",
              "      <th>female</th>\n",
              "      <td>0.010811</td>\n",
              "    </tr>\n",
              "    <tr>\n",
              "      <th>ESIH</th>\n",
              "      <th>male</th>\n",
              "      <td>0.005405</td>\n",
              "    </tr>\n",
              "    <tr>\n",
              "      <th rowspan=\"2\" valign=\"top\">Facebook</th>\n",
              "      <th>female</th>\n",
              "      <td>0.010811</td>\n",
              "    </tr>\n",
              "    <tr>\n",
              "      <th>male</th>\n",
              "      <td>0.037838</td>\n",
              "    </tr>\n",
              "    <tr>\n",
              "      <th rowspan=\"2\" valign=\"top\">Friend</th>\n",
              "      <th>female</th>\n",
              "      <td>0.016216</td>\n",
              "    </tr>\n",
              "    <tr>\n",
              "      <th>male</th>\n",
              "      <td>0.021622</td>\n",
              "    </tr>\n",
              "    <tr>\n",
              "      <th>Instagram</th>\n",
              "      <th>male</th>\n",
              "      <td>0.005405</td>\n",
              "    </tr>\n",
              "    <tr>\n",
              "      <th>LinkedIn</th>\n",
              "      <th>male</th>\n",
              "      <td>0.005405</td>\n",
              "    </tr>\n",
              "    <tr>\n",
              "      <th>WhatsApp</th>\n",
              "      <th>male</th>\n",
              "      <td>0.037838</td>\n",
              "    </tr>\n",
              "    <tr>\n",
              "      <th>other</th>\n",
              "      <th>male</th>\n",
              "      <td>0.010811</td>\n",
              "    </tr>\n",
              "    <tr>\n",
              "      <th rowspan=\"13\" valign=\"top\">Improving my data analysis skills</th>\n",
              "      <th rowspan=\"2\" valign=\"top\">Ayiti Analytics Website</th>\n",
              "      <th>female</th>\n",
              "      <td>0.010811</td>\n",
              "    </tr>\n",
              "    <tr>\n",
              "      <th>male</th>\n",
              "      <td>0.032432</td>\n",
              "    </tr>\n",
              "    <tr>\n",
              "      <th>Bootcamp Alumni</th>\n",
              "      <th>female</th>\n",
              "      <td>0.010811</td>\n",
              "    </tr>\n",
              "    <tr>\n",
              "      <th rowspan=\"2\" valign=\"top\">ESIH</th>\n",
              "      <th>female</th>\n",
              "      <td>0.016216</td>\n",
              "    </tr>\n",
              "    <tr>\n",
              "      <th>male</th>\n",
              "      <td>0.037838</td>\n",
              "    </tr>\n",
              "    <tr>\n",
              "      <th>Facebook</th>\n",
              "      <th>male</th>\n",
              "      <td>0.070270</td>\n",
              "    </tr>\n",
              "    <tr>\n",
              "      <th rowspan=\"2\" valign=\"top\">Friend</th>\n",
              "      <th>female</th>\n",
              "      <td>0.021622</td>\n",
              "    </tr>\n",
              "    <tr>\n",
              "      <th>male</th>\n",
              "      <td>0.097297</td>\n",
              "    </tr>\n",
              "    <tr>\n",
              "      <th>LinkedIn</th>\n",
              "      <th>male</th>\n",
              "      <td>0.043243</td>\n",
              "    </tr>\n",
              "    <tr>\n",
              "      <th rowspan=\"2\" valign=\"top\">WhatsApp</th>\n",
              "      <th>female</th>\n",
              "      <td>0.016216</td>\n",
              "    </tr>\n",
              "    <tr>\n",
              "      <th>male</th>\n",
              "      <td>0.108108</td>\n",
              "    </tr>\n",
              "    <tr>\n",
              "      <th rowspan=\"2\" valign=\"top\">other</th>\n",
              "      <th>female</th>\n",
              "      <td>0.005405</td>\n",
              "    </tr>\n",
              "    <tr>\n",
              "      <th>male</th>\n",
              "      <td>0.010811</td>\n",
              "    </tr>\n",
              "    <tr>\n",
              "      <th rowspan=\"6\" valign=\"top\">Mentorship</th>\n",
              "      <th>Ayiti Analytics Website</th>\n",
              "      <th>male</th>\n",
              "      <td>0.005405</td>\n",
              "    </tr>\n",
              "    <tr>\n",
              "      <th>ESIH</th>\n",
              "      <th>female</th>\n",
              "      <td>0.005405</td>\n",
              "    </tr>\n",
              "    <tr>\n",
              "      <th rowspan=\"2\" valign=\"top\">Facebook</th>\n",
              "      <th>female</th>\n",
              "      <td>0.010811</td>\n",
              "    </tr>\n",
              "    <tr>\n",
              "      <th>male</th>\n",
              "      <td>0.005405</td>\n",
              "    </tr>\n",
              "    <tr>\n",
              "      <th>Friend</th>\n",
              "      <th>male</th>\n",
              "      <td>0.005405</td>\n",
              "    </tr>\n",
              "    <tr>\n",
              "      <th>WhatsApp</th>\n",
              "      <th>male</th>\n",
              "      <td>0.032432</td>\n",
              "    </tr>\n",
              "    <tr>\n",
              "      <th rowspan=\"8\" valign=\"top\">Switching careers</th>\n",
              "      <th rowspan=\"2\" valign=\"top\">Ayiti Analytics Website</th>\n",
              "      <th>female</th>\n",
              "      <td>0.005405</td>\n",
              "    </tr>\n",
              "    <tr>\n",
              "      <th>male</th>\n",
              "      <td>0.005405</td>\n",
              "    </tr>\n",
              "    <tr>\n",
              "      <th>Facebook</th>\n",
              "      <th>male</th>\n",
              "      <td>0.016216</td>\n",
              "    </tr>\n",
              "    <tr>\n",
              "      <th>Friend</th>\n",
              "      <th>male</th>\n",
              "      <td>0.021622</td>\n",
              "    </tr>\n",
              "    <tr>\n",
              "      <th>Instagram</th>\n",
              "      <th>male</th>\n",
              "      <td>0.005405</td>\n",
              "    </tr>\n",
              "    <tr>\n",
              "      <th>LinkedIn</th>\n",
              "      <th>male</th>\n",
              "      <td>0.005405</td>\n",
              "    </tr>\n",
              "    <tr>\n",
              "      <th rowspan=\"2\" valign=\"top\">WhatsApp</th>\n",
              "      <th>female</th>\n",
              "      <td>0.005405</td>\n",
              "    </tr>\n",
              "    <tr>\n",
              "      <th>male</th>\n",
              "      <td>0.037838</td>\n",
              "    </tr>\n",
              "    <tr>\n",
              "      <th rowspan=\"13\" valign=\"top\">Training to start my own company</th>\n",
              "      <th>Ayiti Analytics Website</th>\n",
              "      <th>female</th>\n",
              "      <td>0.005405</td>\n",
              "    </tr>\n",
              "    <tr>\n",
              "      <th>Bootcamp Alumni</th>\n",
              "      <th>female</th>\n",
              "      <td>0.005405</td>\n",
              "    </tr>\n",
              "    <tr>\n",
              "      <th rowspan=\"2\" valign=\"top\">ESIH</th>\n",
              "      <th>female</th>\n",
              "      <td>0.005405</td>\n",
              "    </tr>\n",
              "    <tr>\n",
              "      <th>male</th>\n",
              "      <td>0.005405</td>\n",
              "    </tr>\n",
              "    <tr>\n",
              "      <th>Facebook</th>\n",
              "      <th>male</th>\n",
              "      <td>0.016216</td>\n",
              "    </tr>\n",
              "    <tr>\n",
              "      <th rowspan=\"2\" valign=\"top\">Friend</th>\n",
              "      <th>female</th>\n",
              "      <td>0.005405</td>\n",
              "    </tr>\n",
              "    <tr>\n",
              "      <th>male</th>\n",
              "      <td>0.054054</td>\n",
              "    </tr>\n",
              "    <tr>\n",
              "      <th rowspan=\"2\" valign=\"top\">Instagram</th>\n",
              "      <th>female</th>\n",
              "      <td>0.005405</td>\n",
              "    </tr>\n",
              "    <tr>\n",
              "      <th>male</th>\n",
              "      <td>0.005405</td>\n",
              "    </tr>\n",
              "    <tr>\n",
              "      <th>LinkedIn</th>\n",
              "      <th>male</th>\n",
              "      <td>0.010811</td>\n",
              "    </tr>\n",
              "    <tr>\n",
              "      <th rowspan=\"2\" valign=\"top\">WhatsApp</th>\n",
              "      <th>female</th>\n",
              "      <td>0.005405</td>\n",
              "    </tr>\n",
              "    <tr>\n",
              "      <th>male</th>\n",
              "      <td>0.043243</td>\n",
              "    </tr>\n",
              "    <tr>\n",
              "      <th>other</th>\n",
              "      <th>male</th>\n",
              "      <td>0.005405</td>\n",
              "    </tr>\n",
              "    <tr>\n",
              "      <th>other</th>\n",
              "      <th>other</th>\n",
              "      <th>male</th>\n",
              "      <td>0.005405</td>\n",
              "    </tr>\n",
              "    <tr>\n",
              "      <th rowspan=\"2\" valign=\"top\">unknown</th>\n",
              "      <th>Bootcamp Alumni</th>\n",
              "      <th>male</th>\n",
              "      <td>0.005405</td>\n",
              "    </tr>\n",
              "    <tr>\n",
              "      <th>unknown</th>\n",
              "      <th>male</th>\n",
              "      <td>0.005405</td>\n",
              "    </tr>\n",
              "  </tbody>\n",
              "</table>\n",
              "</div>"
            ],
            "text/plain": [
              "                                                                  quest_id\n",
              "Bootcamp interest                 Communication channels  gender          \n",
              "Finding a job/internship          Bootcamp Alumni         female  0.010811\n",
              "                                  ESIH                    male    0.005405\n",
              "                                  Facebook                female  0.010811\n",
              "                                                          male    0.037838\n",
              "                                  Friend                  female  0.016216\n",
              "                                                          male    0.021622\n",
              "                                  Instagram               male    0.005405\n",
              "                                  LinkedIn                male    0.005405\n",
              "                                  WhatsApp                male    0.037838\n",
              "                                  other                   male    0.010811\n",
              "Improving my data analysis skills Ayiti Analytics Website female  0.010811\n",
              "                                                          male    0.032432\n",
              "                                  Bootcamp Alumni         female  0.010811\n",
              "                                  ESIH                    female  0.016216\n",
              "                                                          male    0.037838\n",
              "                                  Facebook                male    0.070270\n",
              "                                  Friend                  female  0.021622\n",
              "                                                          male    0.097297\n",
              "                                  LinkedIn                male    0.043243\n",
              "                                  WhatsApp                female  0.016216\n",
              "                                                          male    0.108108\n",
              "                                  other                   female  0.005405\n",
              "                                                          male    0.010811\n",
              "Mentorship                        Ayiti Analytics Website male    0.005405\n",
              "                                  ESIH                    female  0.005405\n",
              "                                  Facebook                female  0.010811\n",
              "                                                          male    0.005405\n",
              "                                  Friend                  male    0.005405\n",
              "                                  WhatsApp                male    0.032432\n",
              "Switching careers                 Ayiti Analytics Website female  0.005405\n",
              "                                                          male    0.005405\n",
              "                                  Facebook                male    0.016216\n",
              "                                  Friend                  male    0.021622\n",
              "                                  Instagram               male    0.005405\n",
              "                                  LinkedIn                male    0.005405\n",
              "                                  WhatsApp                female  0.005405\n",
              "                                                          male    0.037838\n",
              "Training to start my own company  Ayiti Analytics Website female  0.005405\n",
              "                                  Bootcamp Alumni         female  0.005405\n",
              "                                  ESIH                    female  0.005405\n",
              "                                                          male    0.005405\n",
              "                                  Facebook                male    0.016216\n",
              "                                  Friend                  female  0.005405\n",
              "                                                          male    0.054054\n",
              "                                  Instagram               female  0.005405\n",
              "                                                          male    0.005405\n",
              "                                  LinkedIn                male    0.010811\n",
              "                                  WhatsApp                female  0.005405\n",
              "                                                          male    0.043243\n",
              "                                  other                   male    0.005405\n",
              "other                             other                   male    0.005405\n",
              "unknown                           Bootcamp Alumni         male    0.005405\n",
              "                                  unknown                 male    0.005405"
            ]
          },
          "metadata": {
            "tags": []
          },
          "execution_count": 542
        }
      ]
    },
    {
      "cell_type": "markdown",
      "metadata": {
        "id": "SKO99IzlZFuv"
      },
      "source": [
        "### 20 reduce \n",
        "* P(Payed=\"yes\"/Bootcamp Insterest=\"Increase Skill\",Communication channels=\"Friend\",Gender=\"male\")\n",
        "* P(Payed=\"no\"/Bootcamp Insterest=\"Increase Skill\",Communication channels=\"Friend\",Gender=\"male\")"
      ]
    },
    {
      "cell_type": "code",
      "metadata": {
        "id": "AJ-SbQIeX5Ck",
        "colab": {
          "base_uri": "https://localhost:8080/"
        },
        "outputId": "df3a082d-9a0c-4dbc-a0a3-a0b11f2d63fe"
      },
      "source": [
        "dts.columns"
      ],
      "execution_count": null,
      "outputs": [
        {
          "output_type": "execute_result",
          "data": {
            "text/plain": [
              "Index(['gender', 'application_date', 'education_level', 'job is formal',\n",
              "       'have_computer_home', 'internet_at_home', 'Communication channels',\n",
              "       'Bootcamp interest', 'quest_id', 'age', 'Commune_en', 'Departement',\n",
              "       'enroll_date', 'is_enroll', 'user_id', 'payment_date', 'payed',\n",
              "       'Accounting', 'Computer Science', 'Economics', 'Electrical Engineering',\n",
              "       'Law', 'Management', 'Medicine', 'Statistics', 'other_x', 'Bash',\n",
              "       'Excel', 'Git', 'Java', 'JavaScript', 'PHP', 'PowerBI or Tableau',\n",
              "       'Python', 'R', 'SQL', 'VBA', 'other_y'],\n",
              "      dtype='object')"
            ]
          },
          "metadata": {
            "tags": []
          },
          "execution_count": 543
        }
      ]
    },
    {
      "cell_type": "code",
      "metadata": {
        "id": "uv9ekaqrZFuv",
        "colab": {
          "base_uri": "https://localhost:8080/"
        },
        "outputId": "137132e3-3745-4e79-97d1-72f73bb40d9b"
      },
      "source": [
        "# here your codes\n",
        "dts['Communication channels'].unique()"
      ],
      "execution_count": null,
      "outputs": [
        {
          "output_type": "execute_result",
          "data": {
            "text/plain": [
              "array(['unknown', 'Friend', 'ESIH', 'WhatsApp', 'Bootcamp Alumni',\n",
              "       'Facebook', 'LinkedIn', 'Ayiti Analytics Website', 'other',\n",
              "       'Instagram'], dtype=object)"
            ]
          },
          "metadata": {
            "tags": []
          },
          "execution_count": 544
        }
      ]
    },
    {
      "cell_type": "code",
      "metadata": {
        "id": "t3o83sMV9Q_N",
        "colab": {
          "base_uri": "https://localhost:8080/"
        },
        "outputId": "46f8371a-6186-4eec-c0d9-f87ba7b52a29"
      },
      "source": [
        "# here your code\n",
        "dts3=dts[(dts['Bootcamp interest']=='Improving my data analysis skills')& (dts['Communication channels']=='Friend') & (dts['gender']=='male')]\n",
        "ts3=dts3['payed'].value_counts(normalize=1 )\n",
        "ts3.rename(index={\"yes\":\"Probability that the applicant pays knowing he wants to improve her skills, he is male and the communication channel is a friend\",\n",
        "'no':\"Probability that the applicant doesn't pay knowing he wants to improve her skills, he is male and the communication channel is a friend\"}, inplace=True)\n",
        "ts3"
      ],
      "execution_count": null,
      "outputs": [
        {
          "output_type": "execute_result",
          "data": {
            "text/plain": [
              "Probability that the applicant doesn't pay knowing he wants to improve her skills, he is male and the communication channel is a friend    0.5625\n",
              "Probability that the applicant pays knowing he wants to improve her skills, he is male and the communication channel is a friend           0.4375\n",
              "Name: payed, dtype: float64"
            ]
          },
          "metadata": {
            "tags": []
          },
          "execution_count": 545
        }
      ]
    },
    {
      "cell_type": "code",
      "metadata": {
        "id": "wG0-IG5yOmqh"
      },
      "source": [
        ""
      ],
      "execution_count": null,
      "outputs": []
    },
    {
      "cell_type": "markdown",
      "metadata": {
        "id": "VR6ntPqdZFuv"
      },
      "source": [
        "### Based on these findings, propose strategies to increase our sales?"
      ]
    },
    {
      "cell_type": "markdown",
      "metadata": {
        "id": "uUemzkx-ZFuw"
      },
      "source": [
        "###According to the results, it is proposed that AYITI ANALYTICS focus on the friends of the Bootcamp alumni to talk to their alumni if they want to increase their sales because the probability that a candidate will pay knowing that he wants to improve his skills and that he is a man and that his communication channel is a friend with a high percentage could be much more beneficial for AYITI ANALYTICS"
      ]
    }
  ]
}